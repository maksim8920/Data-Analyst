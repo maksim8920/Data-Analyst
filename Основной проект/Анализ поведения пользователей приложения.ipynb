{
 "cells": [
  {
   "cell_type": "markdown",
   "metadata": {},
   "source": [
    "#  Анализ поведелние пользователей приложения \"Ненужные вещи\"\n",
    "\n",
    "## Задача:\n",
    "\n",
    "Выделить группы пользователей, различающихся по следующим метрикам:\n",
    "\n",
    "- Количество сессий;\n",
    "\n",
    "- Время, проведенное в приложении;\n",
    "\n",
    "- Частота действий;\n",
    "\n",
    "- Конверсия в целевое действие - просмотр контактов.\n",
    "\n",
    "Сегментировать пользователей на основе действий\n",
    "\n",
    "Проверить статистические гипотезы:\n",
    "\n",
    "- Некоторые пользователи установили приложение по ссылке из yandex, другие — из google. Проверить гипотезу: две эти группы демонстрируют разную конверсию в просмотры контактов;\n",
    "\n",
    "- Выдвинуть гипотезу после проведения исследовательского анализа данных."
   ]
  },
  {
   "cell_type": "markdown",
   "metadata": {},
   "source": [
    "## Загрузка и знакомство с данными"
   ]
  },
  {
   "cell_type": "code",
   "execution_count": 1,
   "metadata": {},
   "outputs": [
    {
     "data": {
      "text/html": [
       "<style>div.output_scroll { height: 90em; }</style>"
      ],
      "text/plain": [
       "<IPython.core.display.HTML object>"
      ]
     },
     "metadata": {},
     "output_type": "display_data"
    }
   ],
   "source": [
    "# Импортируем необходимые библиотеки\n",
    "import pandas as pd\n",
    "import numpy as np\n",
    "import seaborn as sns\n",
    "from scipy import stats as st\n",
    "from sklearn.preprocessing import StandardScaler\n",
    "from scipy.cluster.hierarchy import dendrogram, linkage\n",
    "from sklearn.cluster import KMeans\n",
    "import matplotlib.pyplot as plt\n",
    "from scipy import stats as st\n",
    "import math as mth\n",
    "from IPython.core.display import display, HTML\n",
    "display(HTML(\"<style>div.output_scroll { height: 90em; }</style>\"))\n",
    "import warnings\n",
    "warnings.filterwarnings('ignore')"
   ]
  },
  {
   "cell_type": "code",
   "execution_count": 2,
   "metadata": {},
   "outputs": [],
   "source": [
    "# Загрузим датасеты\n",
    "events_data = pd.read_csv(r\"D:\\!!! Учеба !!!\\Аналитика\\Проекты\\Выпускной проект\\Основной проект\\mobile_dataset.csv\")\n",
    "source_data = pd.read_csv(r\"D:\\!!! Учеба !!!\\Аналитика\\Проекты\\Выпускной проект\\Основной проект\\mobile_soures.csv\")"
   ]
  },
  {
   "cell_type": "code",
   "execution_count": 3,
   "metadata": {},
   "outputs": [
    {
     "data": {
      "text/html": [
       "<div>\n",
       "<style scoped>\n",
       "    .dataframe tbody tr th:only-of-type {\n",
       "        vertical-align: middle;\n",
       "    }\n",
       "\n",
       "    .dataframe tbody tr th {\n",
       "        vertical-align: top;\n",
       "    }\n",
       "\n",
       "    .dataframe thead th {\n",
       "        text-align: right;\n",
       "    }\n",
       "</style>\n",
       "<table border=\"1\" class=\"dataframe\">\n",
       "  <thead>\n",
       "    <tr style=\"text-align: right;\">\n",
       "      <th></th>\n",
       "      <th>event.time</th>\n",
       "      <th>event.name</th>\n",
       "      <th>user.id</th>\n",
       "    </tr>\n",
       "  </thead>\n",
       "  <tbody>\n",
       "    <tr>\n",
       "      <th>0</th>\n",
       "      <td>2019-10-07 00:00:00.431357</td>\n",
       "      <td>advert_open</td>\n",
       "      <td>020292ab-89bc-4156-9acf-68bc2783f894</td>\n",
       "    </tr>\n",
       "    <tr>\n",
       "      <th>1</th>\n",
       "      <td>2019-10-07 00:00:01.236320</td>\n",
       "      <td>tips_show</td>\n",
       "      <td>020292ab-89bc-4156-9acf-68bc2783f894</td>\n",
       "    </tr>\n",
       "    <tr>\n",
       "      <th>2</th>\n",
       "      <td>2019-10-07 00:00:02.245341</td>\n",
       "      <td>tips_show</td>\n",
       "      <td>cf7eda61-9349-469f-ac27-e5b6f5ec475c</td>\n",
       "    </tr>\n",
       "    <tr>\n",
       "      <th>3</th>\n",
       "      <td>2019-10-07 00:00:07.039334</td>\n",
       "      <td>tips_show</td>\n",
       "      <td>020292ab-89bc-4156-9acf-68bc2783f894</td>\n",
       "    </tr>\n",
       "    <tr>\n",
       "      <th>4</th>\n",
       "      <td>2019-10-07 00:00:56.319813</td>\n",
       "      <td>advert_open</td>\n",
       "      <td>cf7eda61-9349-469f-ac27-e5b6f5ec475c</td>\n",
       "    </tr>\n",
       "  </tbody>\n",
       "</table>\n",
       "</div>"
      ],
      "text/plain": [
       "                   event.time   event.name  \\\n",
       "0  2019-10-07 00:00:00.431357  advert_open   \n",
       "1  2019-10-07 00:00:01.236320    tips_show   \n",
       "2  2019-10-07 00:00:02.245341    tips_show   \n",
       "3  2019-10-07 00:00:07.039334    tips_show   \n",
       "4  2019-10-07 00:00:56.319813  advert_open   \n",
       "\n",
       "                                user.id  \n",
       "0  020292ab-89bc-4156-9acf-68bc2783f894  \n",
       "1  020292ab-89bc-4156-9acf-68bc2783f894  \n",
       "2  cf7eda61-9349-469f-ac27-e5b6f5ec475c  \n",
       "3  020292ab-89bc-4156-9acf-68bc2783f894  \n",
       "4  cf7eda61-9349-469f-ac27-e5b6f5ec475c  "
      ]
     },
     "execution_count": 3,
     "metadata": {},
     "output_type": "execute_result"
    }
   ],
   "source": [
    "events_data.head()"
   ]
  },
  {
   "cell_type": "markdown",
   "metadata": {},
   "source": [
    "- _event.time_ — время совершения \n",
    "\n",
    "- _event.name_ — название события \n",
    "\n",
    "- _user.id_ — идентификатор пользователя "
   ]
  },
  {
   "cell_type": "code",
   "execution_count": 4,
   "metadata": {},
   "outputs": [
    {
     "data": {
      "text/plain": [
       "tips_show        40055\n",
       "photos_show      10012\n",
       "advert_open       6164\n",
       "contacts_show     4450\n",
       "map               3881\n",
       "search_1          3506\n",
       "favorites_add     1417\n",
       "search_5          1049\n",
       "tips_click         814\n",
       "search_4           701\n",
       "contacts_call      541\n",
       "search_3           522\n",
       "search_6           460\n",
       "search_2           324\n",
       "search_7           222\n",
       "show_contacts       79\n",
       "Name: event.name, dtype: int64"
      ]
     },
     "execution_count": 4,
     "metadata": {},
     "output_type": "execute_result"
    }
   ],
   "source": [
    "# посмотрим на события\n",
    "events_data['event.name'].value_counts()"
   ]
  },
  {
   "cell_type": "markdown",
   "metadata": {},
   "source": [
    "<div class=\"alert alert-block alert-info\">\n",
    "    \n",
    "- _advert_open_ — открытие карточки объявления\n",
    "- _photos_show_ — просмотр фотографий в объявлении\n",
    "- _tips_show_ — пользователь увидел рекомендованные объявления\n",
    "- _tips_click_ — пользователь кликнул по рекомендованному объявлению\n",
    "- _contacts_show и show_contacts_ — пользователь нажал на кнопку \"посмотреть номер телефона\" на карточке объявления\n",
    "- _contacts_call_ — пользователь позвонил по номеру телефона на карточке объявления\n",
    "- _map_ — пользователь открыл карту размещенных объявлений\n",
    "- _search_1 — search_7_ — разные события, связанные с поиском по сайту\n",
    "- _favorites_add_ — добавление объявления в избранное\n",
    "</div>"
   ]
  },
  {
   "cell_type": "code",
   "execution_count": 5,
   "metadata": {},
   "outputs": [
    {
     "data": {
      "text/html": [
       "<div>\n",
       "<style scoped>\n",
       "    .dataframe tbody tr th:only-of-type {\n",
       "        vertical-align: middle;\n",
       "    }\n",
       "\n",
       "    .dataframe tbody tr th {\n",
       "        vertical-align: top;\n",
       "    }\n",
       "\n",
       "    .dataframe thead th {\n",
       "        text-align: right;\n",
       "    }\n",
       "</style>\n",
       "<table border=\"1\" class=\"dataframe\">\n",
       "  <thead>\n",
       "    <tr style=\"text-align: right;\">\n",
       "      <th></th>\n",
       "      <th>userId</th>\n",
       "      <th>source</th>\n",
       "    </tr>\n",
       "  </thead>\n",
       "  <tbody>\n",
       "    <tr>\n",
       "      <th>0</th>\n",
       "      <td>020292ab-89bc-4156-9acf-68bc2783f894</td>\n",
       "      <td>other</td>\n",
       "    </tr>\n",
       "    <tr>\n",
       "      <th>1</th>\n",
       "      <td>cf7eda61-9349-469f-ac27-e5b6f5ec475c</td>\n",
       "      <td>yandex</td>\n",
       "    </tr>\n",
       "    <tr>\n",
       "      <th>2</th>\n",
       "      <td>8c356c42-3ba9-4cb6-80b8-3f868d0192c3</td>\n",
       "      <td>yandex</td>\n",
       "    </tr>\n",
       "    <tr>\n",
       "      <th>3</th>\n",
       "      <td>d9b06b47-0f36-419b-bbb0-3533e582a6cb</td>\n",
       "      <td>other</td>\n",
       "    </tr>\n",
       "    <tr>\n",
       "      <th>4</th>\n",
       "      <td>f32e1e2a-3027-4693-b793-b7b3ff274439</td>\n",
       "      <td>google</td>\n",
       "    </tr>\n",
       "  </tbody>\n",
       "</table>\n",
       "</div>"
      ],
      "text/plain": [
       "                                 userId  source\n",
       "0  020292ab-89bc-4156-9acf-68bc2783f894   other\n",
       "1  cf7eda61-9349-469f-ac27-e5b6f5ec475c  yandex\n",
       "2  8c356c42-3ba9-4cb6-80b8-3f868d0192c3  yandex\n",
       "3  d9b06b47-0f36-419b-bbb0-3533e582a6cb   other\n",
       "4  f32e1e2a-3027-4693-b793-b7b3ff274439  google"
      ]
     },
     "execution_count": 5,
     "metadata": {},
     "output_type": "execute_result"
    }
   ],
   "source": [
    "source_data.head()"
   ]
  },
  {
   "cell_type": "markdown",
   "metadata": {},
   "source": [
    "<div class=\"alert alert-block alert-info\">\n",
    "    \n",
    "- _userId_ — идентификатор пользователя\n",
    "- _source_ — источник, с которого пользователь установил приложение\n",
    "</div>"
   ]
  },
  {
   "cell_type": "markdown",
   "metadata": {},
   "source": [
    "## Предобработка данных\n",
    "\n",
    "1. Проверка на пропуска;\n",
    "2. Проверка на типы данных;\n",
    "3. Проверка имен столбцов;\n",
    "4. Проверка на дубликаты; \n",
    "5. У нас есть одно событие \"посмотреть номер телефона\" записанное в таблице двумя разными способами, исправить;"
   ]
  },
  {
   "cell_type": "code",
   "execution_count": 6,
   "metadata": {},
   "outputs": [
    {
     "name": "stdout",
     "output_type": "stream",
     "text": [
      "<class 'pandas.core.frame.DataFrame'>\n",
      "RangeIndex: 74197 entries, 0 to 74196\n",
      "Data columns (total 3 columns):\n",
      " #   Column      Non-Null Count  Dtype \n",
      "---  ------      --------------  ----- \n",
      " 0   event.time  74197 non-null  object\n",
      " 1   event.name  74197 non-null  object\n",
      " 2   user.id     74197 non-null  object\n",
      "dtypes: object(3)\n",
      "memory usage: 1.7+ MB\n"
     ]
    }
   ],
   "source": [
    "events_data.info()"
   ]
  },
  {
   "cell_type": "code",
   "execution_count": 7,
   "metadata": {},
   "outputs": [
    {
     "name": "stdout",
     "output_type": "stream",
     "text": [
      "<class 'pandas.core.frame.DataFrame'>\n",
      "RangeIndex: 4293 entries, 0 to 4292\n",
      "Data columns (total 2 columns):\n",
      " #   Column  Non-Null Count  Dtype \n",
      "---  ------  --------------  ----- \n",
      " 0   userId  4293 non-null   object\n",
      " 1   source  4293 non-null   object\n",
      "dtypes: object(2)\n",
      "memory usage: 67.2+ KB\n"
     ]
    }
   ],
   "source": [
    "source_data.info()"
   ]
  },
  {
   "cell_type": "code",
   "execution_count": 8,
   "metadata": {},
   "outputs": [
    {
     "name": "stdout",
     "output_type": "stream",
     "text": [
      "Дубликатов в таблице с событиями: 0\n",
      "Дубликатов в таблице с источниками: 0\n"
     ]
    }
   ],
   "source": [
    "print('Дубликатов в таблице с событиями:',events_data.duplicated().sum())\n",
    "print('Дубликатов в таблице с источниками:',events_data.duplicated().sum())"
   ]
  },
  {
   "cell_type": "markdown",
   "metadata": {},
   "source": [
    "<div class=\"alert alert-block alert-info\">\n",
    "Пропусков и дубликатов в таблицы нет, нужно привести дату к нужному типу, переименовать столбец \"userId\" в таблице с источниками и заменить значения contacts_show на show_contacts.\n",
    "</div>"
   ]
  },
  {
   "cell_type": "code",
   "execution_count": 9,
   "metadata": {},
   "outputs": [],
   "source": [
    "events_data['event.time'] = pd.to_datetime(events_data['event.time'])\n",
    "source_data = source_data.rename(columns = {'userId':'user.id'})\n",
    "events_data['event.name'] = events_data['event.name'].replace({'contacts_show':'show_contacts'})"
   ]
  },
  {
   "cell_type": "markdown",
   "metadata": {},
   "source": [
    "### Итоги предобработки данных\n",
    "\n",
    "Данные проверены на пропуски и дубликаты, даты приведены к нужному типу данных, переименован столбец в таблице с источниками и событие \"просмотр контакта\" записано в таблице уникальным обозначением - \"show_contacts\".\n",
    "\n",
    "Можно приступать к исследовательскому анализу"
   ]
  },
  {
   "cell_type": "markdown",
   "metadata": {},
   "source": [
    "## 3) Исследовательский анализ данных\n",
    "\n",
    "1. Посмотреть на количество пользователей;\n",
    "2. Посмотреть данными за какой временной промежуток мы располагаем;\n",
    "3. Построить гистограмму по дате и времени, определить за весь промежуток времени мы располагаем полными данными или нет;\n",
    "4. Разбить лог на сессии\n",
    "5. Посчитать как часто пользователи возвращаются в приложение - количество сессий. Выделить группы пользователей, различающихся по данной метрики\n",
    "5. Посчитать сколько времени пользователи проводили в приложении. Выделить группы пользователей, различающихся по времени, проведенному в приложении;\n",
    "6. Посмотреть сколько раз совершалось каждое из событий, построить диаграмму;\n",
    "7. Посчитать сколько событий совершил каждый из пользователей. Выделить группы пользователей, различающихся по активности в приложении;\n",
    "8. Посчитать сколько раз каждый из пользователей совершал целевое действие - просмотр контакта. Выделить группы пользователей, различающихся по количеству просмотров контактов;\n",
    "9. Выдвинуть гипотезы для статистической проверки;"
   ]
  },
  {
   "cell_type": "markdown",
   "metadata": {},
   "source": [
    "<div class=\"alert alert-block alert-info\">\n",
    "Найдем количество пользователей\n",
    "</div>"
   ]
  },
  {
   "cell_type": "code",
   "execution_count": 10,
   "metadata": {},
   "outputs": [
    {
     "name": "stdout",
     "output_type": "stream",
     "text": [
      "Количество пользователей: 4293\n"
     ]
    }
   ],
   "source": [
    "print('Количество пользователей:', len(events_data['user.id'].unique()))"
   ]
  },
  {
   "cell_type": "markdown",
   "metadata": {},
   "source": [
    "<div class=\"alert alert-block alert-info\">\n",
    "Определим временной промежуток\n",
    "</div>"
   ]
  },
  {
   "cell_type": "code",
   "execution_count": 11,
   "metadata": {},
   "outputs": [
    {
     "name": "stdout",
     "output_type": "stream",
     "text": [
      "Начало: 2019-10-07 00:00:00.431357\n",
      "Конец: 2019-11-03 23:58:12.532487\n"
     ]
    }
   ],
   "source": [
    "print('Начало:', events_data['event.time'].min())\n",
    "print('Конец:', events_data['event.time'].max())"
   ]
  },
  {
   "cell_type": "markdown",
   "metadata": {},
   "source": [
    "<div class=\"alert alert-block alert-info\">\n",
    "У нас есть данные за 28 дней, с 7-го октября по 3-е ноября. Посмотрим, как распределены события на данном временном отрезке.\n",
    "</div>"
   ]
  },
  {
   "cell_type": "code",
   "execution_count": 12,
   "metadata": {},
   "outputs": [
    {
     "data": {
      "image/png": "[encoded data removed]",
      "text/plain": [
       "<Figure size 432x288 with 1 Axes>"
      ]
     },
     "metadata": {
      "needs_background": "light"
     },
     "output_type": "display_data"
    }
   ],
   "source": [
    "events_data['event.time'].hist(bins = 30)\n",
    "plt.xticks(rotation=45)\n",
    "plt.show()"
   ]
  },
  {
   "cell_type": "markdown",
   "metadata": {},
   "source": [
    "<div class=\"alert alert-block alert-info\">\n",
    "Отлично, у нас есть данные о событиях за весь временной промежуток.\n",
    "    \n",
    "Перейдем к разделению лога на сессии. Посчитаем разницу между совршенными событиями для каждого пользователя, посмотрим на распреление этой разницы и определим то время, которое можно будет считать уже началом новой сессии, а не продолжением предыдущей\n",
    "</div>"
   ]
  },
  {
   "cell_type": "code",
   "execution_count": 13,
   "metadata": {},
   "outputs": [],
   "source": [
    "# Присвоим каждому событию уникальный id\n",
    "events_data = events_data.reset_index().rename(columns={'index':'id'})"
   ]
  },
  {
   "cell_type": "code",
   "execution_count": 14,
   "metadata": {},
   "outputs": [
    {
     "data": {
      "text/html": [
       "<div>\n",
       "<style scoped>\n",
       "    .dataframe tbody tr th:only-of-type {\n",
       "        vertical-align: middle;\n",
       "    }\n",
       "\n",
       "    .dataframe tbody tr th {\n",
       "        vertical-align: top;\n",
       "    }\n",
       "\n",
       "    .dataframe thead th {\n",
       "        text-align: right;\n",
       "    }\n",
       "</style>\n",
       "<table border=\"1\" class=\"dataframe\">\n",
       "  <thead>\n",
       "    <tr style=\"text-align: right;\">\n",
       "      <th></th>\n",
       "      <th>id</th>\n",
       "      <th>event.time</th>\n",
       "      <th>event.name</th>\n",
       "      <th>user.id</th>\n",
       "      <th>diff</th>\n",
       "    </tr>\n",
       "  </thead>\n",
       "  <tbody>\n",
       "    <tr>\n",
       "      <th>0</th>\n",
       "      <td>0</td>\n",
       "      <td>2019-10-07 00:00:00.431357</td>\n",
       "      <td>advert_open</td>\n",
       "      <td>020292ab-89bc-4156-9acf-68bc2783f894</td>\n",
       "      <td>NaT</td>\n",
       "    </tr>\n",
       "    <tr>\n",
       "      <th>1</th>\n",
       "      <td>1</td>\n",
       "      <td>2019-10-07 00:00:01.236320</td>\n",
       "      <td>tips_show</td>\n",
       "      <td>020292ab-89bc-4156-9acf-68bc2783f894</td>\n",
       "      <td>00:00:00.804963</td>\n",
       "    </tr>\n",
       "    <tr>\n",
       "      <th>2</th>\n",
       "      <td>2</td>\n",
       "      <td>2019-10-07 00:00:02.245341</td>\n",
       "      <td>tips_show</td>\n",
       "      <td>cf7eda61-9349-469f-ac27-e5b6f5ec475c</td>\n",
       "      <td>NaT</td>\n",
       "    </tr>\n",
       "    <tr>\n",
       "      <th>3</th>\n",
       "      <td>3</td>\n",
       "      <td>2019-10-07 00:00:07.039334</td>\n",
       "      <td>tips_show</td>\n",
       "      <td>020292ab-89bc-4156-9acf-68bc2783f894</td>\n",
       "      <td>00:00:05.803014</td>\n",
       "    </tr>\n",
       "    <tr>\n",
       "      <th>4</th>\n",
       "      <td>4</td>\n",
       "      <td>2019-10-07 00:00:56.319813</td>\n",
       "      <td>advert_open</td>\n",
       "      <td>cf7eda61-9349-469f-ac27-e5b6f5ec475c</td>\n",
       "      <td>00:00:54.074472</td>\n",
       "    </tr>\n",
       "  </tbody>\n",
       "</table>\n",
       "</div>"
      ],
      "text/plain": [
       "   id                 event.time   event.name  \\\n",
       "0   0 2019-10-07 00:00:00.431357  advert_open   \n",
       "1   1 2019-10-07 00:00:01.236320    tips_show   \n",
       "2   2 2019-10-07 00:00:02.245341    tips_show   \n",
       "3   3 2019-10-07 00:00:07.039334    tips_show   \n",
       "4   4 2019-10-07 00:00:56.319813  advert_open   \n",
       "\n",
       "                                user.id            diff  \n",
       "0  020292ab-89bc-4156-9acf-68bc2783f894             NaT  \n",
       "1  020292ab-89bc-4156-9acf-68bc2783f894 00:00:00.804963  \n",
       "2  cf7eda61-9349-469f-ac27-e5b6f5ec475c             NaT  \n",
       "3  020292ab-89bc-4156-9acf-68bc2783f894 00:00:05.803014  \n",
       "4  cf7eda61-9349-469f-ac27-e5b6f5ec475c 00:00:54.074472  "
      ]
     },
     "execution_count": 14,
     "metadata": {},
     "output_type": "execute_result"
    }
   ],
   "source": [
    "# Для каждого события пользователя посчитаем разницу с предыдущим событием\n",
    "events_data['diff'] = events_data.groupby('user.id')['event.time'].diff(1)\n",
    "\n",
    "# Посмотрим на датасет\n",
    "events_data.head()"
   ]
  },
  {
   "cell_type": "code",
   "execution_count": 15,
   "metadata": {},
   "outputs": [],
   "source": [
    "# посчитаем разницу\n",
    "events_data['diff_check'] = (events_data['diff'].dt.seconds)"
   ]
  },
  {
   "cell_type": "markdown",
   "metadata": {},
   "source": [
    "<div class=\"alert alert-block alert-info\">\n",
    "Для проверки ограничим визуализацию до получаса - 1800 секунд\n",
    "</div>\n"
   ]
  },
  {
   "cell_type": "code",
   "execution_count": 16,
   "metadata": {},
   "outputs": [
    {
     "data": {
      "image/png": "[encoded data removed]",
      "text/plain": [
       "<Figure size 432x288 with 1 Axes>"
      ]
     },
     "metadata": {
      "needs_background": "light"
     },
     "output_type": "display_data"
    }
   ],
   "source": [
    "events_data['diff_check'].plot(kind = 'hist', bins = 100)\n",
    "plt.xlabel('Время')\n",
    "plt.xlim(0, 1800)\n",
    "plt.show()"
   ]
  },
  {
   "cell_type": "markdown",
   "metadata": {},
   "source": [
    "<div class=\"alert alert-block alert-info\">\n",
    "Мы видим, что на отметке в 850 секунд число совершаемых событий резко падает. Будем считать эту разницу между временем совершаемых действий за начало новой сессии. Сделаем таблицу с первыми сессиями.\n",
    "</div>"
   ]
  },
  {
   "cell_type": "code",
   "execution_count": 17,
   "metadata": {},
   "outputs": [
    {
     "data": {
      "text/html": [
       "<div>\n",
       "<style scoped>\n",
       "    .dataframe tbody tr th:only-of-type {\n",
       "        vertical-align: middle;\n",
       "    }\n",
       "\n",
       "    .dataframe tbody tr th {\n",
       "        vertical-align: top;\n",
       "    }\n",
       "\n",
       "    .dataframe thead th {\n",
       "        text-align: right;\n",
       "    }\n",
       "</style>\n",
       "<table border=\"1\" class=\"dataframe\">\n",
       "  <thead>\n",
       "    <tr style=\"text-align: right;\">\n",
       "      <th></th>\n",
       "      <th>id</th>\n",
       "      <th>event.time</th>\n",
       "      <th>event.name</th>\n",
       "      <th>user.id</th>\n",
       "      <th>diff</th>\n",
       "      <th>diff_check</th>\n",
       "      <th>session_id</th>\n",
       "    </tr>\n",
       "  </thead>\n",
       "  <tbody>\n",
       "    <tr>\n",
       "      <th>0</th>\n",
       "      <td>0</td>\n",
       "      <td>2019-10-07 00:00:00.431357</td>\n",
       "      <td>advert_open</td>\n",
       "      <td>020292ab-89bc-4156-9acf-68bc2783f894</td>\n",
       "      <td>NaT</td>\n",
       "      <td>NaN</td>\n",
       "      <td>0</td>\n",
       "    </tr>\n",
       "    <tr>\n",
       "      <th>2</th>\n",
       "      <td>2</td>\n",
       "      <td>2019-10-07 00:00:02.245341</td>\n",
       "      <td>tips_show</td>\n",
       "      <td>cf7eda61-9349-469f-ac27-e5b6f5ec475c</td>\n",
       "      <td>NaT</td>\n",
       "      <td>NaN</td>\n",
       "      <td>2</td>\n",
       "    </tr>\n",
       "    <tr>\n",
       "      <th>12</th>\n",
       "      <td>12</td>\n",
       "      <td>2019-10-07 00:02:07.374346</td>\n",
       "      <td>tips_show</td>\n",
       "      <td>8c356c42-3ba9-4cb6-80b8-3f868d0192c3</td>\n",
       "      <td>NaT</td>\n",
       "      <td>NaN</td>\n",
       "      <td>12</td>\n",
       "    </tr>\n",
       "    <tr>\n",
       "      <th>25</th>\n",
       "      <td>25</td>\n",
       "      <td>2019-10-07 00:05:20.190956</td>\n",
       "      <td>search_4</td>\n",
       "      <td>d9b06b47-0f36-419b-bbb0-3533e582a6cb</td>\n",
       "      <td>NaT</td>\n",
       "      <td>NaN</td>\n",
       "      <td>25</td>\n",
       "    </tr>\n",
       "    <tr>\n",
       "      <th>37</th>\n",
       "      <td>37</td>\n",
       "      <td>2019-10-07 00:09:33.715659</td>\n",
       "      <td>tips_show</td>\n",
       "      <td>f32e1e2a-3027-4693-b793-b7b3ff274439</td>\n",
       "      <td>NaT</td>\n",
       "      <td>NaN</td>\n",
       "      <td>37</td>\n",
       "    </tr>\n",
       "  </tbody>\n",
       "</table>\n",
       "</div>"
      ],
      "text/plain": [
       "    id                 event.time   event.name  \\\n",
       "0    0 2019-10-07 00:00:00.431357  advert_open   \n",
       "2    2 2019-10-07 00:00:02.245341    tips_show   \n",
       "12  12 2019-10-07 00:02:07.374346    tips_show   \n",
       "25  25 2019-10-07 00:05:20.190956     search_4   \n",
       "37  37 2019-10-07 00:09:33.715659    tips_show   \n",
       "\n",
       "                                 user.id diff  diff_check  session_id  \n",
       "0   020292ab-89bc-4156-9acf-68bc2783f894  NaT         NaN           0  \n",
       "2   cf7eda61-9349-469f-ac27-e5b6f5ec475c  NaT         NaN           2  \n",
       "12  8c356c42-3ba9-4cb6-80b8-3f868d0192c3  NaT         NaN          12  \n",
       "25  d9b06b47-0f36-419b-bbb0-3533e582a6cb  NaT         NaN          25  \n",
       "37  f32e1e2a-3027-4693-b793-b7b3ff274439  NaT         NaN          37  "
      ]
     },
     "execution_count": 17,
     "metadata": {},
     "output_type": "execute_result"
    }
   ],
   "source": [
    "start_session = events_data[(events_data['diff'].isnull()) | (events_data['diff'] > '850 seconds')]\n",
    "start_session['session_id'] = start_session['id']\n",
    "start_session.head()"
   ]
  },
  {
   "cell_type": "code",
   "execution_count": 18,
   "metadata": {},
   "outputs": [
    {
     "data": {
      "text/html": [
       "<div>\n",
       "<style scoped>\n",
       "    .dataframe tbody tr th:only-of-type {\n",
       "        vertical-align: middle;\n",
       "    }\n",
       "\n",
       "    .dataframe tbody tr th {\n",
       "        vertical-align: top;\n",
       "    }\n",
       "\n",
       "    .dataframe thead th {\n",
       "        text-align: right;\n",
       "    }\n",
       "</style>\n",
       "<table border=\"1\" class=\"dataframe\">\n",
       "  <thead>\n",
       "    <tr style=\"text-align: right;\">\n",
       "      <th></th>\n",
       "      <th>id</th>\n",
       "      <th>event.time</th>\n",
       "      <th>event.name</th>\n",
       "      <th>user.id</th>\n",
       "      <th>diff</th>\n",
       "      <th>diff_check</th>\n",
       "      <th>session_id</th>\n",
       "    </tr>\n",
       "  </thead>\n",
       "  <tbody>\n",
       "    <tr>\n",
       "      <th>0</th>\n",
       "      <td>0</td>\n",
       "      <td>2019-10-07 00:00:00.431357</td>\n",
       "      <td>advert_open</td>\n",
       "      <td>020292ab-89bc-4156-9acf-68bc2783f894</td>\n",
       "      <td>NaT</td>\n",
       "      <td>NaN</td>\n",
       "      <td>0</td>\n",
       "    </tr>\n",
       "    <tr>\n",
       "      <th>1</th>\n",
       "      <td>1</td>\n",
       "      <td>2019-10-07 00:00:01.236320</td>\n",
       "      <td>tips_show</td>\n",
       "      <td>020292ab-89bc-4156-9acf-68bc2783f894</td>\n",
       "      <td>00:00:00.804963</td>\n",
       "      <td>0.0</td>\n",
       "      <td>0</td>\n",
       "    </tr>\n",
       "    <tr>\n",
       "      <th>2</th>\n",
       "      <td>2</td>\n",
       "      <td>2019-10-07 00:00:02.245341</td>\n",
       "      <td>tips_show</td>\n",
       "      <td>cf7eda61-9349-469f-ac27-e5b6f5ec475c</td>\n",
       "      <td>NaT</td>\n",
       "      <td>NaN</td>\n",
       "      <td>2</td>\n",
       "    </tr>\n",
       "    <tr>\n",
       "      <th>3</th>\n",
       "      <td>3</td>\n",
       "      <td>2019-10-07 00:00:07.039334</td>\n",
       "      <td>tips_show</td>\n",
       "      <td>020292ab-89bc-4156-9acf-68bc2783f894</td>\n",
       "      <td>00:00:05.803014</td>\n",
       "      <td>5.0</td>\n",
       "      <td>0</td>\n",
       "    </tr>\n",
       "    <tr>\n",
       "      <th>4</th>\n",
       "      <td>4</td>\n",
       "      <td>2019-10-07 00:00:56.319813</td>\n",
       "      <td>advert_open</td>\n",
       "      <td>cf7eda61-9349-469f-ac27-e5b6f5ec475c</td>\n",
       "      <td>00:00:54.074472</td>\n",
       "      <td>54.0</td>\n",
       "      <td>2</td>\n",
       "    </tr>\n",
       "  </tbody>\n",
       "</table>\n",
       "</div>"
      ],
      "text/plain": [
       "   id                 event.time   event.name  \\\n",
       "0   0 2019-10-07 00:00:00.431357  advert_open   \n",
       "1   1 2019-10-07 00:00:01.236320    tips_show   \n",
       "2   2 2019-10-07 00:00:02.245341    tips_show   \n",
       "3   3 2019-10-07 00:00:07.039334    tips_show   \n",
       "4   4 2019-10-07 00:00:56.319813  advert_open   \n",
       "\n",
       "                                user.id            diff  diff_check  \\\n",
       "0  020292ab-89bc-4156-9acf-68bc2783f894             NaT         NaN   \n",
       "1  020292ab-89bc-4156-9acf-68bc2783f894 00:00:00.804963         0.0   \n",
       "2  cf7eda61-9349-469f-ac27-e5b6f5ec475c             NaT         NaN   \n",
       "3  020292ab-89bc-4156-9acf-68bc2783f894 00:00:05.803014         5.0   \n",
       "4  cf7eda61-9349-469f-ac27-e5b6f5ec475c 00:00:54.074472        54.0   \n",
       "\n",
       "   session_id  \n",
       "0           0  \n",
       "1           0  \n",
       "2           2  \n",
       "3           0  \n",
       "4           2  "
      ]
     },
     "execution_count": 18,
     "metadata": {},
     "output_type": "execute_result"
    }
   ],
   "source": [
    "# Соединим таблицы с помощью функции merge_asof\n",
    "event_sessions = pd.merge_asof(events_data,start_session[['id','user.id','session_id']],on='id',by='user.id')\n",
    "event_sessions.head()"
   ]
  },
  {
   "cell_type": "code",
   "execution_count": 19,
   "metadata": {},
   "outputs": [
    {
     "data": {
      "text/html": [
       "<div>\n",
       "<style scoped>\n",
       "    .dataframe tbody tr th:only-of-type {\n",
       "        vertical-align: middle;\n",
       "    }\n",
       "\n",
       "    .dataframe tbody tr th {\n",
       "        vertical-align: top;\n",
       "    }\n",
       "\n",
       "    .dataframe thead th {\n",
       "        text-align: right;\n",
       "    }\n",
       "</style>\n",
       "<table border=\"1\" class=\"dataframe\">\n",
       "  <thead>\n",
       "    <tr style=\"text-align: right;\">\n",
       "      <th></th>\n",
       "      <th>user.id</th>\n",
       "      <th>session_id</th>\n",
       "      <th>session_start</th>\n",
       "      <th>session_end</th>\n",
       "      <th>session_time</th>\n",
       "    </tr>\n",
       "  </thead>\n",
       "  <tbody>\n",
       "    <tr>\n",
       "      <th>0</th>\n",
       "      <td>0001b1d5-b74a-4cbf-aeb0-7df5947bf349</td>\n",
       "      <td>805</td>\n",
       "      <td>2019-10-07 13:39:45.989359</td>\n",
       "      <td>2019-10-07 13:49:41.716617</td>\n",
       "      <td>9.916667</td>\n",
       "    </tr>\n",
       "    <tr>\n",
       "      <th>1</th>\n",
       "      <td>0001b1d5-b74a-4cbf-aeb0-7df5947bf349</td>\n",
       "      <td>6541</td>\n",
       "      <td>2019-10-09 18:33:55.577963</td>\n",
       "      <td>2019-10-09 18:42:22.963948</td>\n",
       "      <td>8.450000</td>\n",
       "    </tr>\n",
       "    <tr>\n",
       "      <th>2</th>\n",
       "      <td>0001b1d5-b74a-4cbf-aeb0-7df5947bf349</td>\n",
       "      <td>36412</td>\n",
       "      <td>2019-10-21 19:52:30.778932</td>\n",
       "      <td>2019-10-21 20:07:30.051028</td>\n",
       "      <td>14.983333</td>\n",
       "    </tr>\n",
       "    <tr>\n",
       "      <th>3</th>\n",
       "      <td>0001b1d5-b74a-4cbf-aeb0-7df5947bf349</td>\n",
       "      <td>37556</td>\n",
       "      <td>2019-10-22 11:18:14.635436</td>\n",
       "      <td>2019-10-22 11:30:52.807203</td>\n",
       "      <td>12.633333</td>\n",
       "    </tr>\n",
       "    <tr>\n",
       "      <th>4</th>\n",
       "      <td>00157779-810c-4498-9e05-a1e9e3cedf93</td>\n",
       "      <td>31632</td>\n",
       "      <td>2019-10-19 21:34:33.849769</td>\n",
       "      <td>2019-10-19 21:59:54.637098</td>\n",
       "      <td>25.333333</td>\n",
       "    </tr>\n",
       "  </tbody>\n",
       "</table>\n",
       "</div>"
      ],
      "text/plain": [
       "                                user.id  session_id  \\\n",
       "0  0001b1d5-b74a-4cbf-aeb0-7df5947bf349         805   \n",
       "1  0001b1d5-b74a-4cbf-aeb0-7df5947bf349        6541   \n",
       "2  0001b1d5-b74a-4cbf-aeb0-7df5947bf349       36412   \n",
       "3  0001b1d5-b74a-4cbf-aeb0-7df5947bf349       37556   \n",
       "4  00157779-810c-4498-9e05-a1e9e3cedf93       31632   \n",
       "\n",
       "               session_start                session_end  session_time  \n",
       "0 2019-10-07 13:39:45.989359 2019-10-07 13:49:41.716617      9.916667  \n",
       "1 2019-10-09 18:33:55.577963 2019-10-09 18:42:22.963948      8.450000  \n",
       "2 2019-10-21 19:52:30.778932 2019-10-21 20:07:30.051028     14.983333  \n",
       "3 2019-10-22 11:18:14.635436 2019-10-22 11:30:52.807203     12.633333  \n",
       "4 2019-10-19 21:34:33.849769 2019-10-19 21:59:54.637098     25.333333  "
      ]
     },
     "execution_count": 19,
     "metadata": {},
     "output_type": "execute_result"
    }
   ],
   "source": [
    "# Сгруппируем по пользователю и сессии\n",
    "sessions_table = event_sessions.groupby(['user.id', 'session_id']).agg(session_start = ('event.time', 'min'),\n",
    "                                                   session_end = ('event.time', 'max')).reset_index()\n",
    "\n",
    "# Найдем время сессии в минутах\n",
    "sessions_table['session_time'] = ((sessions_table['session_end'] - sessions_table['session_start']).dt.seconds)/60\n",
    "\n",
    "sessions_table.head(5)"
   ]
  },
  {
   "cell_type": "code",
   "execution_count": 20,
   "metadata": {},
   "outputs": [
    {
     "data": {
      "text/html": [
       "<div>\n",
       "<style scoped>\n",
       "    .dataframe tbody tr th:only-of-type {\n",
       "        vertical-align: middle;\n",
       "    }\n",
       "\n",
       "    .dataframe tbody tr th {\n",
       "        vertical-align: top;\n",
       "    }\n",
       "\n",
       "    .dataframe thead th {\n",
       "        text-align: right;\n",
       "    }\n",
       "</style>\n",
       "<table border=\"1\" class=\"dataframe\">\n",
       "  <thead>\n",
       "    <tr style=\"text-align: right;\">\n",
       "      <th></th>\n",
       "      <th>user.id</th>\n",
       "      <th>mean_session</th>\n",
       "      <th>count_session</th>\n",
       "    </tr>\n",
       "  </thead>\n",
       "  <tbody>\n",
       "    <tr>\n",
       "      <th>0</th>\n",
       "      <td>0001b1d5-b74a-4cbf-aeb0-7df5947bf349</td>\n",
       "      <td>12</td>\n",
       "      <td>4</td>\n",
       "    </tr>\n",
       "    <tr>\n",
       "      <th>1</th>\n",
       "      <td>00157779-810c-4498-9e05-a1e9e3cedf93</td>\n",
       "      <td>15</td>\n",
       "      <td>9</td>\n",
       "    </tr>\n",
       "    <tr>\n",
       "      <th>2</th>\n",
       "      <td>00463033-5717-4bf1-91b4-09183923b9df</td>\n",
       "      <td>25</td>\n",
       "      <td>1</td>\n",
       "    </tr>\n",
       "    <tr>\n",
       "      <th>3</th>\n",
       "      <td>004690c3-5a84-4bb7-a8af-e0c8f8fca64e</td>\n",
       "      <td>4</td>\n",
       "      <td>10</td>\n",
       "    </tr>\n",
       "    <tr>\n",
       "      <th>4</th>\n",
       "      <td>00551e79-152e-4441-9cf7-565d7eb04090</td>\n",
       "      <td>4</td>\n",
       "      <td>3</td>\n",
       "    </tr>\n",
       "  </tbody>\n",
       "</table>\n",
       "</div>"
      ],
      "text/plain": [
       "                                user.id  mean_session  count_session\n",
       "0  0001b1d5-b74a-4cbf-aeb0-7df5947bf349            12              4\n",
       "1  00157779-810c-4498-9e05-a1e9e3cedf93            15              9\n",
       "2  00463033-5717-4bf1-91b4-09183923b9df            25              1\n",
       "3  004690c3-5a84-4bb7-a8af-e0c8f8fca64e             4             10\n",
       "4  00551e79-152e-4441-9cf7-565d7eb04090             4              3"
      ]
     },
     "execution_count": 20,
     "metadata": {},
     "output_type": "execute_result"
    }
   ],
   "source": [
    "# Посчитаем  количество сессий и среднее время сессии каждого пользователя\n",
    "mean_session = sessions_table.groupby('user.id').agg(mean_session = ('session_time', 'mean'),\n",
    "                                                    count_session = ('session_time', 'count')).reset_index()\n",
    "\n",
    "# Округлим значения вверх\n",
    "mean_session['mean_session'] = mean_session['mean_session'].apply(np.ceil).astype(int)\n",
    "mean_session.head()"
   ]
  },
  {
   "cell_type": "markdown",
   "metadata": {},
   "source": [
    "<div class=\"alert alert-block alert-info\">\n",
    "У нас есть среднее время сессии и количество сессий для каждого пользователя. Посмотрим на распределение данных.\n",
    "</div>"
   ]
  },
  {
   "cell_type": "code",
   "execution_count": 21,
   "metadata": {},
   "outputs": [
    {
     "data": {
      "text/html": [
       "<div>\n",
       "<style scoped>\n",
       "    .dataframe tbody tr th:only-of-type {\n",
       "        vertical-align: middle;\n",
       "    }\n",
       "\n",
       "    .dataframe tbody tr th {\n",
       "        vertical-align: top;\n",
       "    }\n",
       "\n",
       "    .dataframe thead th {\n",
       "        text-align: right;\n",
       "    }\n",
       "</style>\n",
       "<table border=\"1\" class=\"dataframe\">\n",
       "  <thead>\n",
       "    <tr style=\"text-align: right;\">\n",
       "      <th></th>\n",
       "      <th>count</th>\n",
       "      <th>mean</th>\n",
       "      <th>std</th>\n",
       "      <th>min</th>\n",
       "      <th>25%</th>\n",
       "      <th>50%</th>\n",
       "      <th>75%</th>\n",
       "      <th>max</th>\n",
       "    </tr>\n",
       "  </thead>\n",
       "  <tbody>\n",
       "    <tr>\n",
       "      <th>mean_session</th>\n",
       "      <td>4293.0</td>\n",
       "      <td>11.212905</td>\n",
       "      <td>11.477169</td>\n",
       "      <td>0.0</td>\n",
       "      <td>4.0</td>\n",
       "      <td>8.0</td>\n",
       "      <td>15.0</td>\n",
       "      <td>125.0</td>\n",
       "    </tr>\n",
       "    <tr>\n",
       "      <th>count_session</th>\n",
       "      <td>4293.0</td>\n",
       "      <td>2.721174</td>\n",
       "      <td>4.261360</td>\n",
       "      <td>1.0</td>\n",
       "      <td>1.0</td>\n",
       "      <td>2.0</td>\n",
       "      <td>3.0</td>\n",
       "      <td>118.0</td>\n",
       "    </tr>\n",
       "  </tbody>\n",
       "</table>\n",
       "</div>"
      ],
      "text/plain": [
       "                count       mean        std  min  25%  50%   75%    max\n",
       "mean_session   4293.0  11.212905  11.477169  0.0  4.0  8.0  15.0  125.0\n",
       "count_session  4293.0   2.721174   4.261360  1.0  1.0  2.0   3.0  118.0"
      ]
     },
     "execution_count": 21,
     "metadata": {},
     "output_type": "execute_result"
    }
   ],
   "source": [
    "mean_session.describe().T"
   ]
  },
  {
   "cell_type": "markdown",
   "metadata": {},
   "source": [
    "<div class=\"alert alert-block alert-info\">\n",
    "В данных большой разброс, посмотрим на распределение на гистограмме. Начнем с количества сессий.\n",
    "</div>\n"
   ]
  },
  {
   "cell_type": "code",
   "execution_count": 22,
   "metadata": {},
   "outputs": [
    {
     "data": {
      "text/plain": [
       "<matplotlib.axes._subplots.AxesSubplot at 0xbf45c08>"
      ]
     },
     "execution_count": 22,
     "metadata": {},
     "output_type": "execute_result"
    },
    {
     "data": {
      "image/png": "[encoded data removed]",
      "text/plain": [
       "<Figure size 432x288 with 1 Axes>"
      ]
     },
     "metadata": {
      "needs_background": "light"
     },
     "output_type": "display_data"
    }
   ],
   "source": [
    "mean_session['count_session'].hist()"
   ]
  },
  {
   "cell_type": "markdown",
   "metadata": {},
   "source": [
    "<div class=\"alert alert-block alert-info\">\n",
    "Уменьшим масштаб\n",
    "</div>"
   ]
  },
  {
   "cell_type": "code",
   "execution_count": 23,
   "metadata": {},
   "outputs": [
    {
     "data": {
      "image/png": "[encoded data removed]",
      "text/plain": [
       "<Figure size 576x288 with 1 Axes>"
      ]
     },
     "metadata": {
      "needs_background": "light"
     },
     "output_type": "display_data"
    }
   ],
   "source": [
    "fig, ax = plt.subplots(figsize=(8, 4))\n",
    "\n",
    "mean_session['count_session'].plot(kind = 'hist', bins = 50)\n",
    "plt.title('Распределение количества сессий по пользователям приложения')\n",
    "plt.xlabel('Количество сессий')\n",
    "plt.ylabel('Количество пользователей')\n",
    "plt.xlim(0, 20)\n",
    "plt.show()"
   ]
  },
  {
   "cell_type": "markdown",
   "metadata": {},
   "source": [
    "<div class=\"alert alert-block alert-info\">\n",
    "Поделим пользователей на следующие группы:\n",
    "\n",
    "- 1 сессия - не возвращался в приложение\n",
    "- 2-5 сессий - не часто пользовался приложением\n",
    "- 6-10 сессий - часто заходит в приложение\n",
    "- 11-20 сессий - пользуется приложением регулярно\n",
    "- более 20 сессий - не может без ненужных вещей\n",
    "</div>\n"
   ]
  },
  {
   "cell_type": "code",
   "execution_count": 61,
   "metadata": {},
   "outputs": [
    {
     "data": {
      "text/html": [
       "<div>\n",
       "<style scoped>\n",
       "    .dataframe tbody tr th:only-of-type {\n",
       "        vertical-align: middle;\n",
       "    }\n",
       "\n",
       "    .dataframe tbody tr th {\n",
       "        vertical-align: top;\n",
       "    }\n",
       "\n",
       "    .dataframe thead th {\n",
       "        text-align: right;\n",
       "    }\n",
       "</style>\n",
       "<table border=\"1\" class=\"dataframe\">\n",
       "  <thead>\n",
       "    <tr style=\"text-align: right;\">\n",
       "      <th></th>\n",
       "      <th>user.id</th>\n",
       "      <th>mean_session</th>\n",
       "      <th>count_session</th>\n",
       "      <th>group_count</th>\n",
       "      <th>group_session</th>\n",
       "    </tr>\n",
       "  </thead>\n",
       "  <tbody>\n",
       "    <tr>\n",
       "      <th>0</th>\n",
       "      <td>0001b1d5-b74a-4cbf-aeb0-7df5947bf349</td>\n",
       "      <td>12</td>\n",
       "      <td>4</td>\n",
       "      <td>2-5 сессий</td>\n",
       "      <td>6-20 минут</td>\n",
       "    </tr>\n",
       "    <tr>\n",
       "      <th>1</th>\n",
       "      <td>00157779-810c-4498-9e05-a1e9e3cedf93</td>\n",
       "      <td>15</td>\n",
       "      <td>9</td>\n",
       "      <td>6-10 сессий</td>\n",
       "      <td>6-20 минут</td>\n",
       "    </tr>\n",
       "    <tr>\n",
       "      <th>2</th>\n",
       "      <td>00463033-5717-4bf1-91b4-09183923b9df</td>\n",
       "      <td>25</td>\n",
       "      <td>1</td>\n",
       "      <td>1 сессия</td>\n",
       "      <td>21-40 минут</td>\n",
       "    </tr>\n",
       "    <tr>\n",
       "      <th>3</th>\n",
       "      <td>004690c3-5a84-4bb7-a8af-e0c8f8fca64e</td>\n",
       "      <td>4</td>\n",
       "      <td>10</td>\n",
       "      <td>6-10 сессий</td>\n",
       "      <td>1-5 минут</td>\n",
       "    </tr>\n",
       "    <tr>\n",
       "      <th>4</th>\n",
       "      <td>00551e79-152e-4441-9cf7-565d7eb04090</td>\n",
       "      <td>4</td>\n",
       "      <td>3</td>\n",
       "      <td>2-5 сессий</td>\n",
       "      <td>1-5 минут</td>\n",
       "    </tr>\n",
       "  </tbody>\n",
       "</table>\n",
       "</div>"
      ],
      "text/plain": [
       "                                user.id  mean_session  count_session  \\\n",
       "0  0001b1d5-b74a-4cbf-aeb0-7df5947bf349            12              4   \n",
       "1  00157779-810c-4498-9e05-a1e9e3cedf93            15              9   \n",
       "2  00463033-5717-4bf1-91b4-09183923b9df            25              1   \n",
       "3  004690c3-5a84-4bb7-a8af-e0c8f8fca64e             4             10   \n",
       "4  00551e79-152e-4441-9cf7-565d7eb04090             4              3   \n",
       "\n",
       "   group_count group_session  \n",
       "0   2-5 сессий    6-20 минут  \n",
       "1  6-10 сессий    6-20 минут  \n",
       "2     1 сессия   21-40 минут  \n",
       "3  6-10 сессий     1-5 минут  \n",
       "4   2-5 сессий     1-5 минут  "
      ]
     },
     "execution_count": 61,
     "metadata": {},
     "output_type": "execute_result"
    }
   ],
   "source": [
    "# категоризируем пользователей\n",
    "def group_count(row):\n",
    "        if row <= 1:\n",
    "            return '1 сессия'\n",
    "        if row <= 5:\n",
    "            return '2-5 сессий'\n",
    "        if row <= 10:\n",
    "            return '6-10 сессий'\n",
    "        if row <= 20:\n",
    "            return '11-20 сессий'\n",
    "        if row > 20:\n",
    "            return 'более 20 сессий'\n",
    "mean_session['group_count'] = mean_session['count_session'].apply(group_count)\n",
    "mean_session.head()"
   ]
  },
  {
   "cell_type": "code",
   "execution_count": 62,
   "metadata": {},
   "outputs": [
    {
     "data": {
      "image/png": "[encoded data removed]",
      "text/plain": [
       "<Figure size 576x360 with 1 Axes>"
      ]
     },
     "metadata": {
      "needs_background": "light"
     },
     "output_type": "display_data"
    }
   ],
   "source": [
    "# Построим распределение\n",
    "\n",
    "fig, ax = plt.subplots(figsize=(8, 5))\n",
    "ax = sns.countplot(x='group_count', data = mean_session, order = mean_session['group_count'].value_counts().index)\n",
    "plt.title('Группы пользователей по количеству сессий')\n",
    "plt.xlabel('')\n",
    "plt.ylabel('Количество пользователей')\n",
    "\n",
    "total = len(mean_session)\n",
    "\n",
    "for p in ax.patches:\n",
    "    height = p.get_height()\n",
    "    ax.text(p.get_x()+p.get_width()/2.,\n",
    "    height + 10,\n",
    "    '{:.1%}'.format(height/total),\n",
    "    ha=\"center\")\n",
    "plt.show()"
   ]
  },
  {
   "cell_type": "markdown",
   "metadata": {},
   "source": [
    "<div class=\"alert alert-block alert-info\">\n",
    "52.8 % пользователей хотя бы один раз возвращались в приложение, это неплохой показатель. Но активных пользователей, у которых более 10 сессий очень мало.\n",
    "    \n",
    "Перейдем к времении сессии.\n",
    "</div>"
   ]
  },
  {
   "cell_type": "code",
   "execution_count": 26,
   "metadata": {},
   "outputs": [
    {
     "data": {
      "image/png": "[encoded data removed]",
      "text/plain": [
       "<Figure size 576x288 with 1 Axes>"
      ]
     },
     "metadata": {
      "needs_background": "light"
     },
     "output_type": "display_data"
    }
   ],
   "source": [
    "# Построим распределение\n",
    "fig, ax = plt.subplots(figsize=(8, 4))\n",
    "ax = mean_session['mean_session'].plot(kind = 'hist', bins = 50)\n",
    "plt.title('Распределение времени средней сессии по пользователям приложения')\n",
    "plt.xlabel('Время сессии')\n",
    "plt.ylabel('Количество пользователей')\n",
    "plt.show()"
   ]
  },
  {
   "cell_type": "markdown",
   "metadata": {},
   "source": [
    "<div class=\"alert alert-block alert-info\">\n",
    "Все достаточно ожидаемо, для того, чтобы найти нужную себе \"ненужную вещь\" большинству пользователей не требуется больше 20-ти минут, а половине пользователей больше 10-ти.\n",
    "    \n",
    "Выделим следующие группы пользователей:\n",
    "- 0 минут, сессии по сути вообще не было, скорее всего это был простой переход по ссылке из поисковика\n",
    "- 1 - 5 минут, короткая сессия, быстро посмотрели что нужно\n",
    "- 6 - 20 минут, средняя продолжительность сессии\n",
    "- 21 - 40 минут, большая сессия пользователь долго искал нужную себе \"ненужную вещь\"\n",
    "- более 40 минут, пользователь залип в приложении\n",
    "</div>"
   ]
  },
  {
   "cell_type": "code",
   "execution_count": 27,
   "metadata": {},
   "outputs": [
    {
     "data": {
      "text/html": [
       "<div>\n",
       "<style scoped>\n",
       "    .dataframe tbody tr th:only-of-type {\n",
       "        vertical-align: middle;\n",
       "    }\n",
       "\n",
       "    .dataframe tbody tr th {\n",
       "        vertical-align: top;\n",
       "    }\n",
       "\n",
       "    .dataframe thead th {\n",
       "        text-align: right;\n",
       "    }\n",
       "</style>\n",
       "<table border=\"1\" class=\"dataframe\">\n",
       "  <thead>\n",
       "    <tr style=\"text-align: right;\">\n",
       "      <th></th>\n",
       "      <th>user.id</th>\n",
       "      <th>mean_session</th>\n",
       "      <th>count_session</th>\n",
       "      <th>group_count</th>\n",
       "      <th>group_session</th>\n",
       "    </tr>\n",
       "  </thead>\n",
       "  <tbody>\n",
       "    <tr>\n",
       "      <th>0</th>\n",
       "      <td>0001b1d5-b74a-4cbf-aeb0-7df5947bf349</td>\n",
       "      <td>12</td>\n",
       "      <td>4</td>\n",
       "      <td>2-5 сессий</td>\n",
       "      <td>6-20 минут</td>\n",
       "    </tr>\n",
       "    <tr>\n",
       "      <th>1</th>\n",
       "      <td>00157779-810c-4498-9e05-a1e9e3cedf93</td>\n",
       "      <td>15</td>\n",
       "      <td>9</td>\n",
       "      <td>6-10 сессий</td>\n",
       "      <td>6-20 минут</td>\n",
       "    </tr>\n",
       "    <tr>\n",
       "      <th>2</th>\n",
       "      <td>00463033-5717-4bf1-91b4-09183923b9df</td>\n",
       "      <td>25</td>\n",
       "      <td>1</td>\n",
       "      <td>1 сессия</td>\n",
       "      <td>21-40 минут</td>\n",
       "    </tr>\n",
       "    <tr>\n",
       "      <th>3</th>\n",
       "      <td>004690c3-5a84-4bb7-a8af-e0c8f8fca64e</td>\n",
       "      <td>4</td>\n",
       "      <td>10</td>\n",
       "      <td>6-10 сессий</td>\n",
       "      <td>1-5 минут</td>\n",
       "    </tr>\n",
       "    <tr>\n",
       "      <th>4</th>\n",
       "      <td>00551e79-152e-4441-9cf7-565d7eb04090</td>\n",
       "      <td>4</td>\n",
       "      <td>3</td>\n",
       "      <td>2-5 сессий</td>\n",
       "      <td>1-5 минут</td>\n",
       "    </tr>\n",
       "  </tbody>\n",
       "</table>\n",
       "</div>"
      ],
      "text/plain": [
       "                                user.id  mean_session  count_session  \\\n",
       "0  0001b1d5-b74a-4cbf-aeb0-7df5947bf349            12              4   \n",
       "1  00157779-810c-4498-9e05-a1e9e3cedf93            15              9   \n",
       "2  00463033-5717-4bf1-91b4-09183923b9df            25              1   \n",
       "3  004690c3-5a84-4bb7-a8af-e0c8f8fca64e             4             10   \n",
       "4  00551e79-152e-4441-9cf7-565d7eb04090             4              3   \n",
       "\n",
       "   group_count group_session  \n",
       "0   2-5 сессий    6-20 минут  \n",
       "1  6-10 сессий    6-20 минут  \n",
       "2     1 сессия   21-40 минут  \n",
       "3  6-10 сессий     1-5 минут  \n",
       "4   2-5 сессий     1-5 минут  "
      ]
     },
     "execution_count": 27,
     "metadata": {},
     "output_type": "execute_result"
    }
   ],
   "source": [
    "# Категоризируем пользователей\n",
    "def group_session(row):\n",
    "        if row <= 0:\n",
    "            return 'Нулевая сессия'\n",
    "        if row <= 5:\n",
    "            return '1-5 минут'\n",
    "        if row <= 20:\n",
    "            return '6-20 минут'\n",
    "        if row <= 40:\n",
    "            return '21-40 минут'\n",
    "        if row > 40:\n",
    "            return 'более 40 минут'\n",
    "mean_session['group_session'] = mean_session['mean_session'].apply(group_session)\n",
    "mean_session.head()"
   ]
  },
  {
   "cell_type": "code",
   "execution_count": 28,
   "metadata": {},
   "outputs": [
    {
     "data": {
      "image/png": "[encoded data removed]",
      "text/plain": [
       "<Figure size 576x360 with 1 Axes>"
      ]
     },
     "metadata": {
      "needs_background": "light"
     },
     "output_type": "display_data"
    }
   ],
   "source": [
    "# Построим распределение\n",
    "\n",
    "fig, ax = plt.subplots(figsize=(8, 5))\n",
    "ax = sns.countplot(x='group_session', data = mean_session, order = mean_session['group_session'].value_counts().index)\n",
    "plt.title('Группы пользователей по среднему времени сессии')\n",
    "plt.xlabel('')\n",
    "plt.ylabel('Количество пользователей')\n",
    "\n",
    "\n",
    "for p in ax.patches:\n",
    "    height = p.get_height()\n",
    "    ax.text(p.get_x()+p.get_width()/2.,\n",
    "    height + 10,\n",
    "    '{:.1%}'.format(height/total),\n",
    "    ha=\"center\")\n",
    "plt.show()"
   ]
  },
  {
   "cell_type": "markdown",
   "metadata": {},
   "source": [
    "<div class=\"alert alert-block alert-info\">\n",
    "Посмотрим сколько раз совершалось каждое из событий в логе.\n",
    "</div>"
   ]
  },
  {
   "cell_type": "code",
   "execution_count": 29,
   "metadata": {},
   "outputs": [
    {
     "data": {
      "image/png": "[encoded data removed]",
      "text/plain": [
       "<Figure size 792x432 with 1 Axes>"
      ]
     },
     "metadata": {
      "needs_background": "light"
     },
     "output_type": "display_data"
    }
   ],
   "source": [
    "fig, ax = plt.subplots(figsize=(11, 6))\n",
    "ax = sns.countplot(x='event.name', data = events_data, order = events_data['event.name'].value_counts().index)\n",
    "plt.title('Совершаемые действия')\n",
    "plt.xlabel('События')\n",
    "plt.ylabel('Количество пользователей')\n",
    "plt.xticks(rotation=45)\n",
    "\n",
    "total_1 = len(events_data)\n",
    "\n",
    "for p in ax.patches:\n",
    "    height = p.get_height()\n",
    "    ax.text(p.get_x()+p.get_width()/2.,\n",
    "    height + 3,\n",
    "    '{:.1%}'.format(height/total_1),\n",
    "    ha=\"center\")\n",
    "plt.show()"
   ]
  },
  {
   "cell_type": "markdown",
   "metadata": {},
   "source": [
    "<div class=\"alert alert-block alert-info\">\n",
    "\n",
    "Посмотрим сколько событий совершил каждый из пользователей    \n",
    "</div>"
   ]
  },
  {
   "cell_type": "code",
   "execution_count": 30,
   "metadata": {},
   "outputs": [
    {
     "data": {
      "text/html": [
       "<div>\n",
       "<style scoped>\n",
       "    .dataframe tbody tr th:only-of-type {\n",
       "        vertical-align: middle;\n",
       "    }\n",
       "\n",
       "    .dataframe tbody tr th {\n",
       "        vertical-align: top;\n",
       "    }\n",
       "\n",
       "    .dataframe thead th {\n",
       "        text-align: right;\n",
       "    }\n",
       "</style>\n",
       "<table border=\"1\" class=\"dataframe\">\n",
       "  <thead>\n",
       "    <tr style=\"text-align: right;\">\n",
       "      <th></th>\n",
       "      <th>user.id</th>\n",
       "      <th>count_event</th>\n",
       "    </tr>\n",
       "  </thead>\n",
       "  <tbody>\n",
       "    <tr>\n",
       "      <th>0</th>\n",
       "      <td>0001b1d5-b74a-4cbf-aeb0-7df5947bf349</td>\n",
       "      <td>35</td>\n",
       "    </tr>\n",
       "    <tr>\n",
       "      <th>1</th>\n",
       "      <td>00157779-810c-4498-9e05-a1e9e3cedf93</td>\n",
       "      <td>71</td>\n",
       "    </tr>\n",
       "    <tr>\n",
       "      <th>2</th>\n",
       "      <td>00463033-5717-4bf1-91b4-09183923b9df</td>\n",
       "      <td>10</td>\n",
       "    </tr>\n",
       "    <tr>\n",
       "      <th>3</th>\n",
       "      <td>004690c3-5a84-4bb7-a8af-e0c8f8fca64e</td>\n",
       "      <td>32</td>\n",
       "    </tr>\n",
       "    <tr>\n",
       "      <th>4</th>\n",
       "      <td>00551e79-152e-4441-9cf7-565d7eb04090</td>\n",
       "      <td>8</td>\n",
       "    </tr>\n",
       "  </tbody>\n",
       "</table>\n",
       "</div>"
      ],
      "text/plain": [
       "                                user.id  count_event\n",
       "0  0001b1d5-b74a-4cbf-aeb0-7df5947bf349           35\n",
       "1  00157779-810c-4498-9e05-a1e9e3cedf93           71\n",
       "2  00463033-5717-4bf1-91b4-09183923b9df           10\n",
       "3  004690c3-5a84-4bb7-a8af-e0c8f8fca64e           32\n",
       "4  00551e79-152e-4441-9cf7-565d7eb04090            8"
      ]
     },
     "execution_count": 30,
     "metadata": {},
     "output_type": "execute_result"
    }
   ],
   "source": [
    "user_events = events_data.groupby('user.id').agg(count_event = ('event.name', 'count')).reset_index()\n",
    "user_events.head()"
   ]
  },
  {
   "cell_type": "code",
   "execution_count": 31,
   "metadata": {},
   "outputs": [
    {
     "data": {
      "text/html": [
       "<div>\n",
       "<style scoped>\n",
       "    .dataframe tbody tr th:only-of-type {\n",
       "        vertical-align: middle;\n",
       "    }\n",
       "\n",
       "    .dataframe tbody tr th {\n",
       "        vertical-align: top;\n",
       "    }\n",
       "\n",
       "    .dataframe thead th {\n",
       "        text-align: right;\n",
       "    }\n",
       "</style>\n",
       "<table border=\"1\" class=\"dataframe\">\n",
       "  <thead>\n",
       "    <tr style=\"text-align: right;\">\n",
       "      <th></th>\n",
       "      <th>count</th>\n",
       "      <th>mean</th>\n",
       "      <th>std</th>\n",
       "      <th>min</th>\n",
       "      <th>25%</th>\n",
       "      <th>50%</th>\n",
       "      <th>75%</th>\n",
       "      <th>max</th>\n",
       "    </tr>\n",
       "  </thead>\n",
       "  <tbody>\n",
       "    <tr>\n",
       "      <th>count_event</th>\n",
       "      <td>4293.0</td>\n",
       "      <td>17.283252</td>\n",
       "      <td>29.130677</td>\n",
       "      <td>1.0</td>\n",
       "      <td>5.0</td>\n",
       "      <td>9.0</td>\n",
       "      <td>17.0</td>\n",
       "      <td>478.0</td>\n",
       "    </tr>\n",
       "  </tbody>\n",
       "</table>\n",
       "</div>"
      ],
      "text/plain": [
       "              count       mean        std  min  25%  50%   75%    max\n",
       "count_event  4293.0  17.283252  29.130677  1.0  5.0  9.0  17.0  478.0"
      ]
     },
     "execution_count": 31,
     "metadata": {},
     "output_type": "execute_result"
    }
   ],
   "source": [
    "user_events.describe().T"
   ]
  },
  {
   "cell_type": "markdown",
   "metadata": {},
   "source": [
    "<div class=\"alert alert-block alert-info\">\n",
    "Наблюдается очень большой разрос данных, среднее значение в два раза выше медианного и почти вдвое меньше стандартного отклонения. Для деления пользователей на группы посмотрим на гистограмму, ограничив количество соверщаемых событий до 100.\n",
    "</div>"
   ]
  },
  {
   "cell_type": "code",
   "execution_count": 32,
   "metadata": {},
   "outputs": [
    {
     "data": {
      "image/png": "[encoded data removed]",
      "text/plain": [
       "<Figure size 576x288 with 1 Axes>"
      ]
     },
     "metadata": {
      "needs_background": "light"
     },
     "output_type": "display_data"
    }
   ],
   "source": [
    "fig, ax = plt.subplots(figsize=(8, 4))\n",
    "ax = user_events['count_event'].plot(kind = 'hist', bins = 100)\n",
    "plt.title('Распределение совершаемых действий по пользователям приложения')\n",
    "plt.xlabel('Количество событий')\n",
    "plt.xlim(0, 100)\n",
    "plt.ylabel('Количество пользователей')\n",
    "plt.show()"
   ]
  },
  {
   "cell_type": "markdown",
   "metadata": {},
   "source": [
    "<div class=\"alert alert-block alert-info\">\n",
    "    \n",
    "Выделим следующие группы пользователей:\n",
    "- совершивших одно действие\n",
    "- от 2 до 10 действий - малоактивные пользователи\n",
    "- от 11 до 30 действий - пользователи со средней активностью\n",
    "- от 31 до 60 действий - активные пользователи\n",
    "- более 60 действий - пользователям очень нравится наше приложение\n",
    "</div>"
   ]
  },
  {
   "cell_type": "code",
   "execution_count": 33,
   "metadata": {},
   "outputs": [
    {
     "data": {
      "text/html": [
       "<div>\n",
       "<style scoped>\n",
       "    .dataframe tbody tr th:only-of-type {\n",
       "        vertical-align: middle;\n",
       "    }\n",
       "\n",
       "    .dataframe tbody tr th {\n",
       "        vertical-align: top;\n",
       "    }\n",
       "\n",
       "    .dataframe thead th {\n",
       "        text-align: right;\n",
       "    }\n",
       "</style>\n",
       "<table border=\"1\" class=\"dataframe\">\n",
       "  <thead>\n",
       "    <tr style=\"text-align: right;\">\n",
       "      <th></th>\n",
       "      <th>user.id</th>\n",
       "      <th>count_event</th>\n",
       "      <th>group_events</th>\n",
       "    </tr>\n",
       "  </thead>\n",
       "  <tbody>\n",
       "    <tr>\n",
       "      <th>0</th>\n",
       "      <td>0001b1d5-b74a-4cbf-aeb0-7df5947bf349</td>\n",
       "      <td>35</td>\n",
       "      <td>31-60 действий</td>\n",
       "    </tr>\n",
       "    <tr>\n",
       "      <th>1</th>\n",
       "      <td>00157779-810c-4498-9e05-a1e9e3cedf93</td>\n",
       "      <td>71</td>\n",
       "      <td>более 60 действий</td>\n",
       "    </tr>\n",
       "    <tr>\n",
       "      <th>2</th>\n",
       "      <td>00463033-5717-4bf1-91b4-09183923b9df</td>\n",
       "      <td>10</td>\n",
       "      <td>2-10 действий</td>\n",
       "    </tr>\n",
       "    <tr>\n",
       "      <th>3</th>\n",
       "      <td>004690c3-5a84-4bb7-a8af-e0c8f8fca64e</td>\n",
       "      <td>32</td>\n",
       "      <td>31-60 действий</td>\n",
       "    </tr>\n",
       "    <tr>\n",
       "      <th>4</th>\n",
       "      <td>00551e79-152e-4441-9cf7-565d7eb04090</td>\n",
       "      <td>8</td>\n",
       "      <td>2-10 действий</td>\n",
       "    </tr>\n",
       "  </tbody>\n",
       "</table>\n",
       "</div>"
      ],
      "text/plain": [
       "                                user.id  count_event       group_events\n",
       "0  0001b1d5-b74a-4cbf-aeb0-7df5947bf349           35     31-60 действий\n",
       "1  00157779-810c-4498-9e05-a1e9e3cedf93           71  более 60 действий\n",
       "2  00463033-5717-4bf1-91b4-09183923b9df           10      2-10 действий\n",
       "3  004690c3-5a84-4bb7-a8af-e0c8f8fca64e           32     31-60 действий\n",
       "4  00551e79-152e-4441-9cf7-565d7eb04090            8      2-10 действий"
      ]
     },
     "execution_count": 33,
     "metadata": {},
     "output_type": "execute_result"
    }
   ],
   "source": [
    "# Категоризируем пользователей\n",
    "def group_events(row):\n",
    "        if row <= 1:\n",
    "            return '1 действие'\n",
    "        if row <= 10:\n",
    "            return '2-10 действий'\n",
    "        if row <= 30:\n",
    "            return '11-30 действий'\n",
    "        if row <= 60:\n",
    "            return '31-60 действий'\n",
    "        if row > 60:\n",
    "            return 'более 60 действий'\n",
    "user_events['group_events'] = user_events['count_event'].apply(group_events)\n",
    "user_events.head()"
   ]
  },
  {
   "cell_type": "code",
   "execution_count": 34,
   "metadata": {},
   "outputs": [
    {
     "data": {
      "image/png": "[encoded data removed]",
      "text/plain": [
       "<Figure size 648x360 with 1 Axes>"
      ]
     },
     "metadata": {
      "needs_background": "light"
     },
     "output_type": "display_data"
    }
   ],
   "source": [
    "# Построим распределение\n",
    "\n",
    "fig, ax = plt.subplots(figsize=(9, 5))\n",
    "ax = sns.countplot(x='group_events', data = user_events, order = user_events['group_events'].value_counts().index)\n",
    "plt.title('Группы пользователей по совершаемым действиям')\n",
    "plt.xlabel('')\n",
    "plt.ylabel('Количество пользователей')\n",
    "\n",
    "for p in ax.patches:\n",
    "    height = p.get_height()\n",
    "    ax.text(p.get_x()+p.get_width()/2.,\n",
    "    height + 10,\n",
    "    '{:.1%}'.format(height/total),\n",
    "    ha=\"center\")\n",
    "plt.show()"
   ]
  },
  {
   "cell_type": "markdown",
   "metadata": {},
   "source": [
    "<div class=\"alert alert-block alert-info\">\n",
    "Посчитаем сколько раз каждый из пользователей совершал целевое действие - просмотр контакта\n",
    "</div>"
   ]
  },
  {
   "cell_type": "code",
   "execution_count": 35,
   "metadata": {},
   "outputs": [
    {
     "data": {
      "text/html": [
       "<div>\n",
       "<style scoped>\n",
       "    .dataframe tbody tr th:only-of-type {\n",
       "        vertical-align: middle;\n",
       "    }\n",
       "\n",
       "    .dataframe tbody tr th {\n",
       "        vertical-align: top;\n",
       "    }\n",
       "\n",
       "    .dataframe thead th {\n",
       "        text-align: right;\n",
       "    }\n",
       "</style>\n",
       "<table border=\"1\" class=\"dataframe\">\n",
       "  <thead>\n",
       "    <tr style=\"text-align: right;\">\n",
       "      <th></th>\n",
       "      <th>user.id</th>\n",
       "      <th>count_event</th>\n",
       "      <th>group_events</th>\n",
       "    </tr>\n",
       "  </thead>\n",
       "  <tbody>\n",
       "    <tr>\n",
       "      <th>0</th>\n",
       "      <td>0001b1d5-b74a-4cbf-aeb0-7df5947bf349</td>\n",
       "      <td>35</td>\n",
       "      <td>31-60 действий</td>\n",
       "    </tr>\n",
       "    <tr>\n",
       "      <th>1</th>\n",
       "      <td>00157779-810c-4498-9e05-a1e9e3cedf93</td>\n",
       "      <td>71</td>\n",
       "      <td>более 60 действий</td>\n",
       "    </tr>\n",
       "    <tr>\n",
       "      <th>2</th>\n",
       "      <td>00463033-5717-4bf1-91b4-09183923b9df</td>\n",
       "      <td>10</td>\n",
       "      <td>2-10 действий</td>\n",
       "    </tr>\n",
       "    <tr>\n",
       "      <th>3</th>\n",
       "      <td>004690c3-5a84-4bb7-a8af-e0c8f8fca64e</td>\n",
       "      <td>32</td>\n",
       "      <td>31-60 действий</td>\n",
       "    </tr>\n",
       "    <tr>\n",
       "      <th>4</th>\n",
       "      <td>00551e79-152e-4441-9cf7-565d7eb04090</td>\n",
       "      <td>8</td>\n",
       "      <td>2-10 действий</td>\n",
       "    </tr>\n",
       "  </tbody>\n",
       "</table>\n",
       "</div>"
      ],
      "text/plain": [
       "                                user.id  count_event       group_events\n",
       "0  0001b1d5-b74a-4cbf-aeb0-7df5947bf349           35     31-60 действий\n",
       "1  00157779-810c-4498-9e05-a1e9e3cedf93           71  более 60 действий\n",
       "2  00463033-5717-4bf1-91b4-09183923b9df           10      2-10 действий\n",
       "3  004690c3-5a84-4bb7-a8af-e0c8f8fca64e           32     31-60 действий\n",
       "4  00551e79-152e-4441-9cf7-565d7eb04090            8      2-10 действий"
      ]
     },
     "execution_count": 35,
     "metadata": {},
     "output_type": "execute_result"
    }
   ],
   "source": [
    "user_events.head()"
   ]
  },
  {
   "cell_type": "code",
   "execution_count": 36,
   "metadata": {},
   "outputs": [
    {
     "data": {
      "text/html": [
       "<div>\n",
       "<style scoped>\n",
       "    .dataframe tbody tr th:only-of-type {\n",
       "        vertical-align: middle;\n",
       "    }\n",
       "\n",
       "    .dataframe tbody tr th {\n",
       "        vertical-align: top;\n",
       "    }\n",
       "\n",
       "    .dataframe thead th {\n",
       "        text-align: right;\n",
       "    }\n",
       "</style>\n",
       "<table border=\"1\" class=\"dataframe\">\n",
       "  <thead>\n",
       "    <tr style=\"text-align: right;\">\n",
       "      <th></th>\n",
       "      <th>id</th>\n",
       "      <th>event.time</th>\n",
       "      <th>event.name</th>\n",
       "      <th>user.id</th>\n",
       "      <th>diff</th>\n",
       "      <th>diff_check</th>\n",
       "    </tr>\n",
       "  </thead>\n",
       "  <tbody>\n",
       "    <tr>\n",
       "      <th>0</th>\n",
       "      <td>0</td>\n",
       "      <td>2019-10-07 00:00:00.431357</td>\n",
       "      <td>advert_open</td>\n",
       "      <td>020292ab-89bc-4156-9acf-68bc2783f894</td>\n",
       "      <td>NaT</td>\n",
       "      <td>NaN</td>\n",
       "    </tr>\n",
       "    <tr>\n",
       "      <th>1</th>\n",
       "      <td>1</td>\n",
       "      <td>2019-10-07 00:00:01.236320</td>\n",
       "      <td>tips_show</td>\n",
       "      <td>020292ab-89bc-4156-9acf-68bc2783f894</td>\n",
       "      <td>00:00:00.804963</td>\n",
       "      <td>0.0</td>\n",
       "    </tr>\n",
       "    <tr>\n",
       "      <th>2</th>\n",
       "      <td>2</td>\n",
       "      <td>2019-10-07 00:00:02.245341</td>\n",
       "      <td>tips_show</td>\n",
       "      <td>cf7eda61-9349-469f-ac27-e5b6f5ec475c</td>\n",
       "      <td>NaT</td>\n",
       "      <td>NaN</td>\n",
       "    </tr>\n",
       "    <tr>\n",
       "      <th>3</th>\n",
       "      <td>3</td>\n",
       "      <td>2019-10-07 00:00:07.039334</td>\n",
       "      <td>tips_show</td>\n",
       "      <td>020292ab-89bc-4156-9acf-68bc2783f894</td>\n",
       "      <td>00:00:05.803014</td>\n",
       "      <td>5.0</td>\n",
       "    </tr>\n",
       "    <tr>\n",
       "      <th>4</th>\n",
       "      <td>4</td>\n",
       "      <td>2019-10-07 00:00:56.319813</td>\n",
       "      <td>advert_open</td>\n",
       "      <td>cf7eda61-9349-469f-ac27-e5b6f5ec475c</td>\n",
       "      <td>00:00:54.074472</td>\n",
       "      <td>54.0</td>\n",
       "    </tr>\n",
       "  </tbody>\n",
       "</table>\n",
       "</div>"
      ],
      "text/plain": [
       "   id                 event.time   event.name  \\\n",
       "0   0 2019-10-07 00:00:00.431357  advert_open   \n",
       "1   1 2019-10-07 00:00:01.236320    tips_show   \n",
       "2   2 2019-10-07 00:00:02.245341    tips_show   \n",
       "3   3 2019-10-07 00:00:07.039334    tips_show   \n",
       "4   4 2019-10-07 00:00:56.319813  advert_open   \n",
       "\n",
       "                                user.id            diff  diff_check  \n",
       "0  020292ab-89bc-4156-9acf-68bc2783f894             NaT         NaN  \n",
       "1  020292ab-89bc-4156-9acf-68bc2783f894 00:00:00.804963         0.0  \n",
       "2  cf7eda61-9349-469f-ac27-e5b6f5ec475c             NaT         NaN  \n",
       "3  020292ab-89bc-4156-9acf-68bc2783f894 00:00:05.803014         5.0  \n",
       "4  cf7eda61-9349-469f-ac27-e5b6f5ec475c 00:00:54.074472        54.0  "
      ]
     },
     "execution_count": 36,
     "metadata": {},
     "output_type": "execute_result"
    }
   ],
   "source": [
    "events_data.head()"
   ]
  },
  {
   "cell_type": "code",
   "execution_count": 37,
   "metadata": {},
   "outputs": [],
   "source": [
    "show_contacts = events_data.pivot_table(index = 'user.id', columns = 'event.name', values = 'diff', aggfunc = 'count')\\\n",
    ".reset_index()\n",
    "\n",
    "show_contacts = show_contacts[['user.id', 'show_contacts']].fillna(0)"
   ]
  },
  {
   "cell_type": "code",
   "execution_count": 38,
   "metadata": {},
   "outputs": [
    {
     "data": {
      "text/html": [
       "<div>\n",
       "<style scoped>\n",
       "    .dataframe tbody tr th:only-of-type {\n",
       "        vertical-align: middle;\n",
       "    }\n",
       "\n",
       "    .dataframe tbody tr th {\n",
       "        vertical-align: top;\n",
       "    }\n",
       "\n",
       "    .dataframe thead th {\n",
       "        text-align: right;\n",
       "    }\n",
       "</style>\n",
       "<table border=\"1\" class=\"dataframe\">\n",
       "  <thead>\n",
       "    <tr style=\"text-align: right;\">\n",
       "      <th></th>\n",
       "      <th>count</th>\n",
       "      <th>mean</th>\n",
       "      <th>std</th>\n",
       "      <th>min</th>\n",
       "      <th>25%</th>\n",
       "      <th>50%</th>\n",
       "      <th>75%</th>\n",
       "      <th>max</th>\n",
       "    </tr>\n",
       "    <tr>\n",
       "      <th>event.name</th>\n",
       "      <th></th>\n",
       "      <th></th>\n",
       "      <th></th>\n",
       "      <th></th>\n",
       "      <th></th>\n",
       "      <th></th>\n",
       "      <th></th>\n",
       "      <th></th>\n",
       "    </tr>\n",
       "  </thead>\n",
       "  <tbody>\n",
       "    <tr>\n",
       "      <th>show_contacts</th>\n",
       "      <td>4293.0</td>\n",
       "      <td>1.013277</td>\n",
       "      <td>4.957514</td>\n",
       "      <td>0.0</td>\n",
       "      <td>0.0</td>\n",
       "      <td>0.0</td>\n",
       "      <td>0.0</td>\n",
       "      <td>137.0</td>\n",
       "    </tr>\n",
       "  </tbody>\n",
       "</table>\n",
       "</div>"
      ],
      "text/plain": [
       "                count      mean       std  min  25%  50%  75%    max\n",
       "event.name                                                          \n",
       "show_contacts  4293.0  1.013277  4.957514  0.0  0.0  0.0  0.0  137.0"
      ]
     },
     "execution_count": 38,
     "metadata": {},
     "output_type": "execute_result"
    }
   ],
   "source": [
    "show_contacts.describe().T"
   ]
  },
  {
   "cell_type": "markdown",
   "metadata": {},
   "source": [
    "<div class=\"alert alert-block alert-info\">\n",
    "Распределение данных очень неравномерно, стандартное отклонение почти в пять раз выше среднего, также видим, что большинство пользователей не доходило до просмотра контактов, наряду с тем, что есть пользователи с очень большим числом просмотров контактных телефонов, что может наталкивать нас на мысль о мошенничестве.\n",
    "    \n",
    "Для данной метрики можно выделить три группы пользователей:\n",
    "- не доходили до просмотра контактов\n",
    "- просматривали контакты\n",
    "- подозрительная активность, просмотр более 25 контактов.\n",
    "    </div>"
   ]
  },
  {
   "cell_type": "code",
   "execution_count": 39,
   "metadata": {},
   "outputs": [
    {
     "data": {
      "text/html": [
       "<div>\n",
       "<style scoped>\n",
       "    .dataframe tbody tr th:only-of-type {\n",
       "        vertical-align: middle;\n",
       "    }\n",
       "\n",
       "    .dataframe tbody tr th {\n",
       "        vertical-align: top;\n",
       "    }\n",
       "\n",
       "    .dataframe thead th {\n",
       "        text-align: right;\n",
       "    }\n",
       "</style>\n",
       "<table border=\"1\" class=\"dataframe\">\n",
       "  <thead>\n",
       "    <tr style=\"text-align: right;\">\n",
       "      <th>event.name</th>\n",
       "      <th>user.id</th>\n",
       "      <th>show_contacts</th>\n",
       "      <th>contacts_group</th>\n",
       "    </tr>\n",
       "  </thead>\n",
       "  <tbody>\n",
       "    <tr>\n",
       "      <th>0</th>\n",
       "      <td>0001b1d5-b74a-4cbf-aeb0-7df5947bf349</td>\n",
       "      <td>0.0</td>\n",
       "      <td>нет просмотров</td>\n",
       "    </tr>\n",
       "    <tr>\n",
       "      <th>1</th>\n",
       "      <td>00157779-810c-4498-9e05-a1e9e3cedf93</td>\n",
       "      <td>11.0</td>\n",
       "      <td>есть просмотры</td>\n",
       "    </tr>\n",
       "    <tr>\n",
       "      <th>2</th>\n",
       "      <td>00463033-5717-4bf1-91b4-09183923b9df</td>\n",
       "      <td>0.0</td>\n",
       "      <td>нет просмотров</td>\n",
       "    </tr>\n",
       "    <tr>\n",
       "      <th>3</th>\n",
       "      <td>004690c3-5a84-4bb7-a8af-e0c8f8fca64e</td>\n",
       "      <td>0.0</td>\n",
       "      <td>нет просмотров</td>\n",
       "    </tr>\n",
       "    <tr>\n",
       "      <th>4</th>\n",
       "      <td>00551e79-152e-4441-9cf7-565d7eb04090</td>\n",
       "      <td>2.0</td>\n",
       "      <td>есть просмотры</td>\n",
       "    </tr>\n",
       "  </tbody>\n",
       "</table>\n",
       "</div>"
      ],
      "text/plain": [
       "event.name                               user.id  show_contacts  \\\n",
       "0           0001b1d5-b74a-4cbf-aeb0-7df5947bf349            0.0   \n",
       "1           00157779-810c-4498-9e05-a1e9e3cedf93           11.0   \n",
       "2           00463033-5717-4bf1-91b4-09183923b9df            0.0   \n",
       "3           004690c3-5a84-4bb7-a8af-e0c8f8fca64e            0.0   \n",
       "4           00551e79-152e-4441-9cf7-565d7eb04090            2.0   \n",
       "\n",
       "event.name  contacts_group  \n",
       "0           нет просмотров  \n",
       "1           есть просмотры  \n",
       "2           нет просмотров  \n",
       "3           нет просмотров  \n",
       "4           есть просмотры  "
      ]
     },
     "execution_count": 39,
     "metadata": {},
     "output_type": "execute_result"
    }
   ],
   "source": [
    "# Категоризируем пользователей\n",
    "def group_contacts(row):\n",
    "        if row <= 0:\n",
    "            return 'нет просмотров'\n",
    "        if row <= 25:\n",
    "            return 'есть просмотры'\n",
    "        if row > 25:\n",
    "            return 'подозрительная активность'\n",
    "\n",
    "show_contacts['contacts_group'] = show_contacts['show_contacts'].apply(group_contacts)\n",
    "show_contacts.head()"
   ]
  },
  {
   "cell_type": "code",
   "execution_count": 40,
   "metadata": {},
   "outputs": [
    {
     "data": {
      "image/png": "[encoded data removed]",
      "text/plain": [
       "<Figure size 576x360 with 1 Axes>"
      ]
     },
     "metadata": {
      "needs_background": "light"
     },
     "output_type": "display_data"
    }
   ],
   "source": [
    "# Построим распределение\n",
    "\n",
    "fig, ax = plt.subplots(figsize=(8, 5))\n",
    "ax = sns.countplot(x='contacts_group', data = show_contacts, order = show_contacts['contacts_group'].value_counts().index)\n",
    "plt.title('Группы пользователей по просмотрам контактов')\n",
    "plt.xlabel('')\n",
    "plt.ylabel('Количество пользователей')\n",
    "\n",
    "\n",
    "for p in ax.patches:\n",
    "    height = p.get_height()\n",
    "    ax.text(p.get_x()+p.get_width()/2.,\n",
    "    height + 10,\n",
    "    '{:.1%}'.format(height/total),\n",
    "    ha=\"center\")\n",
    "plt.show()"
   ]
  },
  {
   "cell_type": "markdown",
   "metadata": {},
   "source": [
    "<div class=\"alert alert-block alert-info\">\n",
    "Почти 23% пользователей доходили до целевого действия - просмотра контактов, но 0.5% делали это подозрительно часто\n",
    "    \n",
    "Построим итоговую таблицу по результатам исследовательского анализа.\n",
    "</div>"
   ]
  },
  {
   "cell_type": "code",
   "execution_count": 41,
   "metadata": {},
   "outputs": [
    {
     "data": {
      "text/html": [
       "<div>\n",
       "<style scoped>\n",
       "    .dataframe tbody tr th:only-of-type {\n",
       "        vertical-align: middle;\n",
       "    }\n",
       "\n",
       "    .dataframe tbody tr th {\n",
       "        vertical-align: top;\n",
       "    }\n",
       "\n",
       "    .dataframe thead th {\n",
       "        text-align: right;\n",
       "    }\n",
       "</style>\n",
       "<table border=\"1\" class=\"dataframe\">\n",
       "  <thead>\n",
       "    <tr style=\"text-align: right;\">\n",
       "      <th></th>\n",
       "      <th>user.id</th>\n",
       "      <th>mean_session</th>\n",
       "      <th>count_session</th>\n",
       "      <th>group_count</th>\n",
       "      <th>group_session</th>\n",
       "      <th>count_event</th>\n",
       "      <th>group_events</th>\n",
       "    </tr>\n",
       "  </thead>\n",
       "  <tbody>\n",
       "    <tr>\n",
       "      <th>0</th>\n",
       "      <td>0001b1d5-b74a-4cbf-aeb0-7df5947bf349</td>\n",
       "      <td>12</td>\n",
       "      <td>4</td>\n",
       "      <td>2-5 сессий</td>\n",
       "      <td>6-20 минут</td>\n",
       "      <td>35</td>\n",
       "      <td>31-60 действий</td>\n",
       "    </tr>\n",
       "    <tr>\n",
       "      <th>1</th>\n",
       "      <td>00157779-810c-4498-9e05-a1e9e3cedf93</td>\n",
       "      <td>15</td>\n",
       "      <td>9</td>\n",
       "      <td>6-10 сессий</td>\n",
       "      <td>6-20 минут</td>\n",
       "      <td>71</td>\n",
       "      <td>более 60 действий</td>\n",
       "    </tr>\n",
       "    <tr>\n",
       "      <th>2</th>\n",
       "      <td>00463033-5717-4bf1-91b4-09183923b9df</td>\n",
       "      <td>25</td>\n",
       "      <td>1</td>\n",
       "      <td>1 сессия</td>\n",
       "      <td>21-40 минут</td>\n",
       "      <td>10</td>\n",
       "      <td>2-10 действий</td>\n",
       "    </tr>\n",
       "    <tr>\n",
       "      <th>3</th>\n",
       "      <td>004690c3-5a84-4bb7-a8af-e0c8f8fca64e</td>\n",
       "      <td>4</td>\n",
       "      <td>10</td>\n",
       "      <td>6-10 сессий</td>\n",
       "      <td>1-5 минут</td>\n",
       "      <td>32</td>\n",
       "      <td>31-60 действий</td>\n",
       "    </tr>\n",
       "    <tr>\n",
       "      <th>4</th>\n",
       "      <td>00551e79-152e-4441-9cf7-565d7eb04090</td>\n",
       "      <td>4</td>\n",
       "      <td>3</td>\n",
       "      <td>2-5 сессий</td>\n",
       "      <td>1-5 минут</td>\n",
       "      <td>8</td>\n",
       "      <td>2-10 действий</td>\n",
       "    </tr>\n",
       "  </tbody>\n",
       "</table>\n",
       "</div>"
      ],
      "text/plain": [
       "                                user.id  mean_session  count_session  \\\n",
       "0  0001b1d5-b74a-4cbf-aeb0-7df5947bf349            12              4   \n",
       "1  00157779-810c-4498-9e05-a1e9e3cedf93            15              9   \n",
       "2  00463033-5717-4bf1-91b4-09183923b9df            25              1   \n",
       "3  004690c3-5a84-4bb7-a8af-e0c8f8fca64e             4             10   \n",
       "4  00551e79-152e-4441-9cf7-565d7eb04090             4              3   \n",
       "\n",
       "   group_count group_session  count_event       group_events  \n",
       "0   2-5 сессий    6-20 минут           35     31-60 действий  \n",
       "1  6-10 сессий    6-20 минут           71  более 60 действий  \n",
       "2     1 сессия   21-40 минут           10      2-10 действий  \n",
       "3  6-10 сессий     1-5 минут           32     31-60 действий  \n",
       "4   2-5 сессий     1-5 минут            8      2-10 действий  "
      ]
     },
     "execution_count": 41,
     "metadata": {},
     "output_type": "execute_result"
    }
   ],
   "source": [
    "eda_groups = mean_session.merge(user_events, on='user.id')\n",
    "eda_groups.head()"
   ]
  },
  {
   "cell_type": "markdown",
   "metadata": {},
   "source": [
    "<div class=\"alert alert-block alert-info\">\n",
    "Выдвинем гипотезу, что пользователи, которые пользовались картой размещенных объявлений демонстрируют большую конверсию в просмотры контактов, чем пользователи, которые не пользовались картой, но при этом открывали карточки с объявлениями.\n",
    "</div>"
   ]
  },
  {
   "cell_type": "markdown",
   "metadata": {},
   "source": [
    "## Итоги исследовательского анализа\n",
    "\n",
    "1. Количество пользователей в логе - 4293\n",
    "2. Мы располашаем данными за 28 дней, с 7-го октября по 3 ноября 2019 года\n",
    "3. Данные о событиях полные за весь рассматриваемый промежуток времени\n",
    "4. Лог разбит на сессии\n",
    "5. Выделены группы пользователей в зависимости от количества сессий:\n",
    "    - 1 сессия - 47.7%\n",
    "    - 2-5 сессий - 43.4%\n",
    "    - 6-10 сессий - 8%\n",
    "    - 11-20 сессий - 0.7%\n",
    "    - более 20 сессий - 0.1%\n",
    "6. Выделены группы пользователей в зависимости от среднего времени сессий:\n",
    "    - 0 минут - 2%\n",
    "    - 1 - 5 минут - 28%\n",
    "    - 6 - 20 минут - 46.4%\n",
    "    - 21 - 40 минут - 17%\n",
    "    - более 40 минут - 6.5%\n",
    "7. Выделены группы пользователей в зависимости от количества совершаемых действий:\n",
    "    - одно действие - 1.5 %\n",
    "    - от 2 до 10 действий - 55.1%\n",
    "    - от 11 до 30 действий - 31.2%\n",
    "    - от 31 до 60 действий - 7.4%\n",
    "    - более 60 действий - 4.8%\n",
    "8. Выделены группы пользователей на основе выполнения целевого действия - просмотра контакта:\n",
    "    - не доходили до просмотра контактов - 77.1%\n",
    "    - просматривали контакты - 22.3%\n",
    "    - подозрительная активность, просмотр более 25 контактов 0.5%\n",
    "9. Построена общая таблица с группами пользователей.\n",
    "10. Выдвинута гипотеза, что пользователи, которые пользовались картой размещенных объявлений демонстрируют большую конверсию в просмотры контактов, чем пользователи, которые не пользовались картой, но при этом открывали карточки с объявлениями.\n"
   ]
  },
  {
   "cell_type": "markdown",
   "metadata": {},
   "source": [
    "\n",
    "## 4) Кластеризация пользователей на основе действий\n",
    "\n",
    "1. Составить сводную таблицу для кластеризации;\n",
    "2. Убрать из таблицы столбцы search1 - search7, они не нужны нам для кластеризации;\n",
    "3. Добавить в таблицу метрики, полученные в результаты EDA: ретеншен, время сессии и количество действий;\n",
    "3. Стандартизировать данные;\n",
    "4. Построить дендрограмму, определить оптимальное число кластеров;\n",
    "5. Кластеризировать пользователей на основании алгоритма K-means;\n",
    "6. Построить и изучить распределение признаков по кластерам;\n",
    "7. Посмотреть, как распределились ретеншен, время сессии и количество действий по полученным группам."
   ]
  },
  {
   "cell_type": "markdown",
   "metadata": {},
   "source": [
    "<div class=\"alert alert-block alert-info\">\n",
    "События search1 - search7 не несут за собой никакой информации, мы не знаем какие именно действия за ними скрываются и никак не можем их интерпретировать. В следствие чего в своей работе я бы не учитывал их при кластеризации.\n",
    "</div>\n"
   ]
  },
  {
   "cell_type": "markdown",
   "metadata": {},
   "source": [
    "<div class=\"alert alert-block alert-info\">\n",
    "Найдем сколько раз пользователи совершали каждое их действий, построив сводную таблицу\n",
    "</div>"
   ]
  },
  {
   "cell_type": "code",
   "execution_count": 42,
   "metadata": {},
   "outputs": [],
   "source": [
    "# Построим сводную таблицу\n",
    "cluster_table = events_data.pivot_table(index = 'user.id', columns = 'event.name', values = 'diff', aggfunc = 'count')\\\n",
    ".reset_index().fillna(0)\n",
    "\n",
    "# Оставим только нужные нам столбцы\n",
    "cluster_table = cluster_table[['user.id', 'advert_open', 'contacts_call', 'favorites_add', 'map', 'photos_show',\\\n",
    "                              'show_contacts', 'tips_click', 'tips_show']]"
   ]
  },
  {
   "cell_type": "code",
   "execution_count": 43,
   "metadata": {},
   "outputs": [],
   "source": [
    "# Добавим ретеншен, время сессии и количество действий\n",
    "cluster_table = cluster_table.merge(eda_groups[['user.id', 'mean_session', 'count_session', 'count_event']], on='user.id')"
   ]
  },
  {
   "cell_type": "code",
   "execution_count": 44,
   "metadata": {},
   "outputs": [
    {
     "data": {
      "text/html": [
       "<div>\n",
       "<style scoped>\n",
       "    .dataframe tbody tr th:only-of-type {\n",
       "        vertical-align: middle;\n",
       "    }\n",
       "\n",
       "    .dataframe tbody tr th {\n",
       "        vertical-align: top;\n",
       "    }\n",
       "\n",
       "    .dataframe thead th {\n",
       "        text-align: right;\n",
       "    }\n",
       "</style>\n",
       "<table border=\"1\" class=\"dataframe\">\n",
       "  <thead>\n",
       "    <tr style=\"text-align: right;\">\n",
       "      <th></th>\n",
       "      <th>user.id</th>\n",
       "      <th>advert_open</th>\n",
       "      <th>contacts_call</th>\n",
       "      <th>favorites_add</th>\n",
       "      <th>map</th>\n",
       "      <th>photos_show</th>\n",
       "      <th>show_contacts</th>\n",
       "      <th>tips_click</th>\n",
       "      <th>tips_show</th>\n",
       "      <th>mean_session</th>\n",
       "      <th>count_session</th>\n",
       "      <th>count_event</th>\n",
       "    </tr>\n",
       "  </thead>\n",
       "  <tbody>\n",
       "    <tr>\n",
       "      <th>0</th>\n",
       "      <td>0001b1d5-b74a-4cbf-aeb0-7df5947bf349</td>\n",
       "      <td>0.0</td>\n",
       "      <td>0.0</td>\n",
       "      <td>0.0</td>\n",
       "      <td>6.0</td>\n",
       "      <td>0.0</td>\n",
       "      <td>0.0</td>\n",
       "      <td>0.0</td>\n",
       "      <td>28.0</td>\n",
       "      <td>12</td>\n",
       "      <td>4</td>\n",
       "      <td>35</td>\n",
       "    </tr>\n",
       "    <tr>\n",
       "      <th>1</th>\n",
       "      <td>00157779-810c-4498-9e05-a1e9e3cedf93</td>\n",
       "      <td>2.0</td>\n",
       "      <td>5.0</td>\n",
       "      <td>2.0</td>\n",
       "      <td>0.0</td>\n",
       "      <td>33.0</td>\n",
       "      <td>11.0</td>\n",
       "      <td>0.0</td>\n",
       "      <td>0.0</td>\n",
       "      <td>15</td>\n",
       "      <td>9</td>\n",
       "      <td>71</td>\n",
       "    </tr>\n",
       "    <tr>\n",
       "      <th>2</th>\n",
       "      <td>00463033-5717-4bf1-91b4-09183923b9df</td>\n",
       "      <td>0.0</td>\n",
       "      <td>0.0</td>\n",
       "      <td>0.0</td>\n",
       "      <td>0.0</td>\n",
       "      <td>9.0</td>\n",
       "      <td>0.0</td>\n",
       "      <td>0.0</td>\n",
       "      <td>0.0</td>\n",
       "      <td>25</td>\n",
       "      <td>1</td>\n",
       "      <td>10</td>\n",
       "    </tr>\n",
       "    <tr>\n",
       "      <th>3</th>\n",
       "      <td>004690c3-5a84-4bb7-a8af-e0c8f8fca64e</td>\n",
       "      <td>5.0</td>\n",
       "      <td>0.0</td>\n",
       "      <td>0.0</td>\n",
       "      <td>6.0</td>\n",
       "      <td>0.0</td>\n",
       "      <td>0.0</td>\n",
       "      <td>0.0</td>\n",
       "      <td>4.0</td>\n",
       "      <td>4</td>\n",
       "      <td>10</td>\n",
       "      <td>32</td>\n",
       "    </tr>\n",
       "    <tr>\n",
       "      <th>4</th>\n",
       "      <td>00551e79-152e-4441-9cf7-565d7eb04090</td>\n",
       "      <td>0.0</td>\n",
       "      <td>3.0</td>\n",
       "      <td>0.0</td>\n",
       "      <td>0.0</td>\n",
       "      <td>1.0</td>\n",
       "      <td>2.0</td>\n",
       "      <td>0.0</td>\n",
       "      <td>0.0</td>\n",
       "      <td>4</td>\n",
       "      <td>3</td>\n",
       "      <td>8</td>\n",
       "    </tr>\n",
       "  </tbody>\n",
       "</table>\n",
       "</div>"
      ],
      "text/plain": [
       "                                user.id  advert_open  contacts_call  \\\n",
       "0  0001b1d5-b74a-4cbf-aeb0-7df5947bf349          0.0            0.0   \n",
       "1  00157779-810c-4498-9e05-a1e9e3cedf93          2.0            5.0   \n",
       "2  00463033-5717-4bf1-91b4-09183923b9df          0.0            0.0   \n",
       "3  004690c3-5a84-4bb7-a8af-e0c8f8fca64e          5.0            0.0   \n",
       "4  00551e79-152e-4441-9cf7-565d7eb04090          0.0            3.0   \n",
       "\n",
       "   favorites_add  map  photos_show  show_contacts  tips_click  tips_show  \\\n",
       "0            0.0  6.0          0.0            0.0         0.0       28.0   \n",
       "1            2.0  0.0         33.0           11.0         0.0        0.0   \n",
       "2            0.0  0.0          9.0            0.0         0.0        0.0   \n",
       "3            0.0  6.0          0.0            0.0         0.0        4.0   \n",
       "4            0.0  0.0          1.0            2.0         0.0        0.0   \n",
       "\n",
       "   mean_session  count_session  count_event  \n",
       "0            12              4           35  \n",
       "1            15              9           71  \n",
       "2            25              1           10  \n",
       "3             4             10           32  \n",
       "4             4              3            8  "
      ]
     },
     "execution_count": 44,
     "metadata": {},
     "output_type": "execute_result"
    }
   ],
   "source": [
    "cluster_table.head()"
   ]
  },
  {
   "cell_type": "code",
   "execution_count": 45,
   "metadata": {},
   "outputs": [],
   "source": [
    "# Стандартизируем данные\n",
    "scaler = StandardScaler()\n",
    "cluster_table_st = scaler.fit_transform(cluster_table.drop('user.id', axis=1))"
   ]
  },
  {
   "cell_type": "code",
   "execution_count": 46,
   "metadata": {},
   "outputs": [
    {
     "data": {
      "image/png": "[encoded data removed]",
      "text/plain": [
       "<Figure size 1080x720 with 1 Axes>"
      ]
     },
     "metadata": {
      "needs_background": "light"
     },
     "output_type": "display_data"
    }
   ],
   "source": [
    "# Нарисуем дендограмму\n",
    "linked = linkage(cluster_table_st, method = 'ward')\n",
    "plt.figure(figsize=(15, 10))  \n",
    "dendrogram(linked, orientation='top')\n",
    "plt.title('Иерархическая кластеризация пользователей \"Ненужных вещей\"')\n",
    "plt.show()"
   ]
  },
  {
   "cell_type": "markdown",
   "metadata": {},
   "source": [
    "<div class=\"alert alert-block alert-info\">\n",
    "Нам предлагают поделить пользователей всего на два кластера, один огромный и один маленький. Я все-таки остановлюсь на выборе трех кластеров, есть риск, что при выборе всего двух кластеров мы упустим отличающиеся особенности.\n",
    "</div>\n"
   ]
  },
  {
   "cell_type": "code",
   "execution_count": 47,
   "metadata": {},
   "outputs": [],
   "source": [
    "# Обучим модель алгоритмом K-means\n",
    "km = KMeans(n_clusters = 3, random_state=0)\n",
    "labels = km.fit_predict(cluster_table_st)\n",
    "\n",
    "# Добавим метки кластера в датасет\n",
    "cluster_table['cluster'] = labels"
   ]
  },
  {
   "cell_type": "code",
   "execution_count": 48,
   "metadata": {},
   "outputs": [
    {
     "data": {
      "image/png": "[encoded data removed]",
      "text/plain": [
       "<Figure size 576x360 with 1 Axes>"
      ]
     },
     "metadata": {
      "needs_background": "light"
     },
     "output_type": "display_data"
    }
   ],
   "source": [
    "# Построим распределение\n",
    "fig, ax = plt.subplots(figsize=(8, 5))\n",
    "ax = sns.countplot(x='cluster', data = cluster_table, order = cluster_table['cluster'].value_counts().index)\n",
    "plt.title('Кластеры пользователей')\n",
    "plt.xlabel('Кластер')\n",
    "plt.ylabel('Количество пользователей')\n",
    "\n",
    "\n",
    "for p in ax.patches:\n",
    "    height = p.get_height()\n",
    "    ax.text(p.get_x()+p.get_width()/2.,\n",
    "    height + 10,\n",
    "    '{}'.format(height),\n",
    "    ha=\"center\")\n",
    "plt.show()"
   ]
  },
  {
   "cell_type": "markdown",
   "metadata": {},
   "source": [
    "<div class=\"alert alert-block alert-info\">\n",
    "Мы получили огромный первый кластер, куда входят почти все пользователи, небольшой нулевой кластер и совсем крошечный кластер под номером 2. Посмотрим как у нас распределились ключевые метрики по кластерам.\n",
    "</div>"
   ]
  },
  {
   "cell_type": "code",
   "execution_count": 49,
   "metadata": {},
   "outputs": [
    {
     "data": {
      "text/html": [
       "<div>\n",
       "<style scoped>\n",
       "    .dataframe tbody tr th:only-of-type {\n",
       "        vertical-align: middle;\n",
       "    }\n",
       "\n",
       "    .dataframe tbody tr th {\n",
       "        vertical-align: top;\n",
       "    }\n",
       "\n",
       "    .dataframe thead th {\n",
       "        text-align: right;\n",
       "    }\n",
       "</style>\n",
       "<table border=\"1\" class=\"dataframe\">\n",
       "  <thead>\n",
       "    <tr style=\"text-align: right;\">\n",
       "      <th>cluster</th>\n",
       "      <th>0</th>\n",
       "      <th>1</th>\n",
       "      <th>2</th>\n",
       "    </tr>\n",
       "  </thead>\n",
       "  <tbody>\n",
       "    <tr>\n",
       "      <th>mean_session</th>\n",
       "      <td>8.0</td>\n",
       "      <td>16.0</td>\n",
       "      <td>13.5</td>\n",
       "    </tr>\n",
       "    <tr>\n",
       "      <th>count_session</th>\n",
       "      <td>1.0</td>\n",
       "      <td>7.5</td>\n",
       "      <td>38.5</td>\n",
       "    </tr>\n",
       "    <tr>\n",
       "      <th>count_event</th>\n",
       "      <td>8.0</td>\n",
       "      <td>76.0</td>\n",
       "      <td>359.0</td>\n",
       "    </tr>\n",
       "  </tbody>\n",
       "</table>\n",
       "</div>"
      ],
      "text/plain": [
       "cluster          0     1      2\n",
       "mean_session   8.0  16.0   13.5\n",
       "count_session  1.0   7.5   38.5\n",
       "count_event    8.0  76.0  359.0"
      ]
     },
     "execution_count": 49,
     "metadata": {},
     "output_type": "execute_result"
    }
   ],
   "source": [
    "metrics = cluster_table[['user.id', 'mean_session', 'count_session', 'count_event', 'cluster']]\n",
    "metrics.groupby('cluster').median().T"
   ]
  },
  {
   "cell_type": "markdown",
   "metadata": {},
   "source": [
    "<div class=\"alert alert-block alert-info\">\n",
    "По всем ключевым метрикам наблюдается большое различие между пользователями кластеров. Посмотрим на распределение данных, лучше всего это отразят боксплоты.\n",
    "</div>"
   ]
  },
  {
   "cell_type": "code",
   "execution_count": 50,
   "metadata": {},
   "outputs": [
    {
     "data": {
      "image/png": "[encoded data removed]",
      "text/plain": [
       "<Figure size 1080x288 with 3 Axes>"
      ]
     },
     "metadata": {
      "needs_background": "light"
     },
     "output_type": "display_data"
    }
   ],
   "source": [
    "# Столбцы для боксплотов\n",
    "columns = ['mean_session', 'count_session', 'count_event']\n",
    "\n",
    "# Построим боксплоты\n",
    "fig, ax = plt.subplots(1,3, figsize=(15,4))\n",
    "fig.suptitle('Распределения ключевых метрик для кластеров пользователей', y = .99, fontsize=20)\n",
    "\n",
    "number = 0\n",
    "for i in columns:\n",
    "    sns.boxplot(x='cluster', y=i, ax=ax[number], data=cluster_table)\n",
    "    ax[number].set_xlabel('')\n",
    "    ax[number].set_ylabel('')\n",
    "    ax[number].set_title(i)\n",
    "    number += 1\n",
    "plt.show()"
   ]
  },
  {
   "cell_type": "markdown",
   "metadata": {},
   "source": [
    "<div class=\"alert alert-block alert-info\">\n",
    "Теперь посмотрим, как распределились действия\n",
    "</div>"
   ]
  },
  {
   "cell_type": "code",
   "execution_count": 51,
   "metadata": {
    "scrolled": true
   },
   "outputs": [
    {
     "data": {
      "image/png": "[encoded data removed]",
      "text/plain": [
       "<Figure size 1080x1440 with 8 Axes>"
      ]
     },
     "metadata": {
      "needs_background": "light"
     },
     "output_type": "display_data"
    }
   ],
   "source": [
    "# Столбцы для боксплотов\n",
    "columns = ['advert_open', 'contacts_call', 'favorites_add', 'map', 'photos_show', 'show_contacts', 'tips_click', 'tips_show']\n",
    "\n",
    "# Построим боксплоты\n",
    "fig, ax = plt.subplots(4,2, figsize=(15,20))\n",
    "fig.suptitle('Распределения действий для кластеров пользователей', y = .94, fontsize=20)\n",
    "ax = ax.ravel()\n",
    "number = 0\n",
    "for i in columns:\n",
    "    sns.boxplot(x='cluster', y=i, ax=ax[number], data=cluster_table)\n",
    "    ax[number].set_xlabel('')\n",
    "    ax[number].set_ylabel('')\n",
    "    ax[number].set_title(i)\n",
    "    number += 1\n",
    "plt.show()"
   ]
  },
  {
   "cell_type": "markdown",
   "metadata": {},
   "source": [
    "## Итоги кластеризации\n",
    "\n",
    "Мы получили три кластера, пользователи которых значительно различаются по ключевым метрикам.\n",
    "\n",
    "В кластер под номером 1 попало большинство пользователей, по всей видимости это среднестатистические пользователи приложения, не проявляющие особой активности, редко возвращающиеся в него и проводяшие в нем немного времени.\n",
    "\n",
    "В кластер под номером 0 попадает целевая аудитория приложени. Это любители \"ненужных вещей\", проводящие в приложении много времени, часто возвращающиеся в него и совершающие в нем много действий.\n",
    "\n",
    "В кластер под номером 2 попали наиболее активные пользователи. У них гораздо большее количество сессий и действий в приложении, среднее значение этих показателей превышает значения пользователей нулевого кластера в шесть раз.При этом среднее время сессии немного ниже, чем у пользователей нулевого кластера.\n",
    "\n",
    "Если посмотреть на распределение действий по кластерам, то вполне ожидаемо видно, что пользователи первого кластера совершали гораздо меньше каждое из действий, чем пользователи двух других кластеров.\n",
    "\n",
    "Смотрится подозрительно, что пользователи второго кластера открывали больше всех объявлений, смотрели карту, в разы больше других смотрели контакты, но при этом не открывали фотки и не звонили по объявлениям. И если звонки можно объяснить тем, что 15 пользователей могли и не звонить, а просто серфили по сайту и искали что-то интересное для себя, то почему они при этом не открывали фотки объяснить уже трудно. Я могу предположить, что это могло быть связано с техническими проблемами на их устройствах и фотки просто не открывались, но ведь эти пользователи часто возвращались в приложение, продолжали совершать наибольшее число действий. На пользователей этого кластера следует обратить внимание, возможно в нем присутствуют мошенники, собирающие телефонную базу.\n",
    "\n",
    "Пользователи нулевого кластера сбалансированно распределены по всем показателям"
   ]
  },
  {
   "cell_type": "markdown",
   "metadata": {},
   "source": [
    "## Проверка гипотез\n",
    "\n",
    "1. Проверка гипотезы о том, что пользователи, установившие приложения по ссылка из Яндекса и Гугла демонстрируют различную конверсию в просмотры контактов;\n",
    "2. Проверка гипотезы о том, что пользователи, которые пользовались картой размещенных объявлений демонстрируют большую конверсию в просмотры контактов, чем пользователи, которые не пользовались картой, но при этом открывали карточки с объявлениями.\n",
    "    \n",
    "    - Выдвинутая гипотеза - пользователи, пользующиеся картой, демонстрируют большую конверсию в просмотр контактов\n",
    "    - Альтернативная гипотеза - пользователи, пользующиеся картой, демонстрируют меньшую конверсию в просмотр контактов\n",
    "    - Нулевая гипотеза - различий нет"
   ]
  },
  {
   "cell_type": "markdown",
   "metadata": {},
   "source": [
    "<div class=\"alert alert-block alert-info\">\n",
    "Проверим, что в таблице с источниками нет лишних источников, а затем соединим ее с таблицей кластеризации, оставив только необходимые нам столбцы. Затем разделим таблицы по источникам установки и проведем статистический тест для проверки нулевой гипотезы о том, что между просмотрами контактов нет разницы.\n",
    "</div>\n"
   ]
  },
  {
   "cell_type": "code",
   "execution_count": 52,
   "metadata": {},
   "outputs": [
    {
     "data": {
      "text/plain": [
       "yandex    1934\n",
       "other     1230\n",
       "google    1129\n",
       "Name: source, dtype: int64"
      ]
     },
     "execution_count": 52,
     "metadata": {},
     "output_type": "execute_result"
    }
   ],
   "source": [
    "source_data['source'].value_counts()"
   ]
  },
  {
   "cell_type": "code",
   "execution_count": 53,
   "metadata": {},
   "outputs": [
    {
     "data": {
      "text/html": [
       "<div>\n",
       "<style scoped>\n",
       "    .dataframe tbody tr th:only-of-type {\n",
       "        vertical-align: middle;\n",
       "    }\n",
       "\n",
       "    .dataframe tbody tr th {\n",
       "        vertical-align: top;\n",
       "    }\n",
       "\n",
       "    .dataframe thead th {\n",
       "        text-align: right;\n",
       "    }\n",
       "</style>\n",
       "<table border=\"1\" class=\"dataframe\">\n",
       "  <thead>\n",
       "    <tr style=\"text-align: right;\">\n",
       "      <th></th>\n",
       "      <th>user.id</th>\n",
       "      <th>source</th>\n",
       "      <th>show_contacts</th>\n",
       "    </tr>\n",
       "  </thead>\n",
       "  <tbody>\n",
       "    <tr>\n",
       "      <th>1</th>\n",
       "      <td>cf7eda61-9349-469f-ac27-e5b6f5ec475c</td>\n",
       "      <td>yandex</td>\n",
       "      <td>0.0</td>\n",
       "    </tr>\n",
       "    <tr>\n",
       "      <th>2</th>\n",
       "      <td>8c356c42-3ba9-4cb6-80b8-3f868d0192c3</td>\n",
       "      <td>yandex</td>\n",
       "      <td>2.0</td>\n",
       "    </tr>\n",
       "    <tr>\n",
       "      <th>4</th>\n",
       "      <td>f32e1e2a-3027-4693-b793-b7b3ff274439</td>\n",
       "      <td>google</td>\n",
       "      <td>0.0</td>\n",
       "    </tr>\n",
       "    <tr>\n",
       "      <th>5</th>\n",
       "      <td>17f6b2db-2964-4d11-89d8-7e38d2cb4750</td>\n",
       "      <td>yandex</td>\n",
       "      <td>2.0</td>\n",
       "    </tr>\n",
       "    <tr>\n",
       "      <th>6</th>\n",
       "      <td>62aa104f-592d-4ccb-8226-2ba0e719ded5</td>\n",
       "      <td>yandex</td>\n",
       "      <td>0.0</td>\n",
       "    </tr>\n",
       "  </tbody>\n",
       "</table>\n",
       "</div>"
      ],
      "text/plain": [
       "                                user.id  source  show_contacts\n",
       "1  cf7eda61-9349-469f-ac27-e5b6f5ec475c  yandex            0.0\n",
       "2  8c356c42-3ba9-4cb6-80b8-3f868d0192c3  yandex            2.0\n",
       "4  f32e1e2a-3027-4693-b793-b7b3ff274439  google            0.0\n",
       "5  17f6b2db-2964-4d11-89d8-7e38d2cb4750  yandex            2.0\n",
       "6  62aa104f-592d-4ccb-8226-2ba0e719ded5  yandex            0.0"
      ]
     },
     "execution_count": 53,
     "metadata": {},
     "output_type": "execute_result"
    }
   ],
   "source": [
    "source_hypothesis = pd.merge(source_data, cluster_table[['user.id', 'show_contacts']], on = 'user.id')\\\n",
    "                                                    .query('source == \"yandex\" or source == \"google\"')\n",
    "source_hypothesis.head()"
   ]
  },
  {
   "cell_type": "code",
   "execution_count": 54,
   "metadata": {},
   "outputs": [],
   "source": [
    "# Подготовим данные к z-тесту\n",
    "yandex_1 = source_hypothesis.query('source == \"yandex\" and show_contacts != 0')\n",
    "yandex = source_hypothesis.query('source == \"yandex\"')\n",
    "google_1 = source_hypothesis.query('source == \"google\" and show_contacts != 0')\n",
    "google = source_hypothesis.query('source == \"google\"')"
   ]
  },
  {
   "cell_type": "code",
   "execution_count": 55,
   "metadata": {},
   "outputs": [
    {
     "name": "stdout",
     "output_type": "stream",
     "text": [
      "p-значение:  0.93215849399865\n",
      "Не получилось отвергнуть нулевую гипотезу, нет оснований считать доли разными\n"
     ]
    }
   ],
   "source": [
    "alpha = .05\n",
    "\n",
    "p1 = len(yandex_1)/len(yandex)\n",
    "    \n",
    "p2 = len(google_1)/len(google)\n",
    "\n",
    "p_combined = (len(yandex_1) + len(google_1)) / (len(yandex) + len(google))\n",
    "\n",
    "difference = p1 - p2\n",
    "\n",
    "z_value = difference / mth.sqrt(p_combined * (1 - p_combined) * (1/len(yandex) + 1/len(google)))\n",
    "\n",
    "distr = st.norm(0, 1)\n",
    "\n",
    "p_value = (1 - distr.cdf(abs(z_value))) * 2\n",
    "print('p-значение: ', p_value)\n",
    "if (p_value < alpha):\n",
    "    print(\"Отвергаем нулевую гипотезу: между долями есть значимая разница\")\n",
    "else:\n",
    "    print(\"Не получилось отвергнуть нулевую гипотезу, нет оснований считать доли разными\")"
   ]
  },
  {
   "cell_type": "markdown",
   "metadata": {},
   "source": [
    "<div class=\"alert alert-block alert-info\">\n",
    "Проверим гипотезу об использовании карты объявлений\n",
    "</div>"
   ]
  },
  {
   "cell_type": "code",
   "execution_count": 56,
   "metadata": {},
   "outputs": [],
   "source": [
    "# Пользователи, пользовавшиеся картой\n",
    "map_users = cluster_table.query('map != 0')\n",
    "# Пользователи, не пользовавшиеся картой, но открывающие объявления\n",
    "no_map_users = cluster_table.query('map == 0 and (advert_open != 0 or tips_click != 0)')"
   ]
  },
  {
   "cell_type": "code",
   "execution_count": 57,
   "metadata": {},
   "outputs": [],
   "source": [
    "map_users_1 = map_users.query('show_contacts != 0')\n",
    "no_map_users_1 = no_map_users.query('show_contacts != 0')"
   ]
  },
  {
   "cell_type": "markdown",
   "metadata": {},
   "source": [
    "<div class=\"alert alert-block alert-info\">\n",
    "Мы проводим односторонний тест, а значит p.value нужно поделить пополам.\n",
    "</div>"
   ]
  },
  {
   "cell_type": "code",
   "execution_count": 58,
   "metadata": {},
   "outputs": [
    {
     "name": "stdout",
     "output_type": "stream",
     "text": [
      "p-значение:  0.12334999412912118\n",
      "Принимаем нулевую гипотезу\n"
     ]
    }
   ],
   "source": [
    "alpha = .05\n",
    "\n",
    "p1 = len(map_users_1)/len(map_users)\n",
    "    \n",
    "p2 = len(no_map_users_1)/len(no_map_users)\n",
    "\n",
    "p_combined = (len(map_users_1) + len(no_map_users_1)) / (len(map_users) + len(no_map_users))\n",
    "\n",
    "difference = p1 - p2\n",
    "\n",
    "z_value = difference / mth.sqrt(p_combined * (1 - p_combined) * (1/len(map_users) + 1/len(no_map_users)))\n",
    "\n",
    "distr = st.norm(0, 1)\n",
    "\n",
    "p_value = (1 - distr.cdf(abs(z_value))) * 2\n",
    "print('p-значение: ', p_value/2)\n",
    "if (p_value/2 < alpha) and p1 >  p2:\n",
    "    print(\"Принимаем выдвинутую гипотезу\")\n",
    "elif (p_value/2 < alpha) and p1 <  p2:\n",
    "    print(\"Принимаем альтернативную гипотезу\")\n",
    "else:\n",
    "    print(\"Принимаем нулевую гипотезу\")"
   ]
  },
  {
   "cell_type": "markdown",
   "metadata": {},
   "source": [
    "<div class=\"alert alert-block alert-info\">\n",
    "У нас есть основания предполагать, что пользователи неиспользовавшие карту демонстрируют большую конверсию в просмотры контактов, чем пользователи, использующие карту\n",
    "</div>"
   ]
  },
  {
   "cell_type": "markdown",
   "metadata": {},
   "source": [
    "## Итоги проверки гипотез\n",
    "\n",
    "1. Нет основания считать, что пользователи, установшие приложения по ссылке из яндекса демонстрируют различную конверсию с пользователями, установившими приложение из гугла.\n",
    "2. Есть основания предполагать, что пользователи неиспользовавшие карту демонстрируют большую конверсию в просмотры контактов, чем пользователи, использующие карту"
   ]
  },
  {
   "cell_type": "markdown",
   "metadata": {},
   "source": [
    "# Общий вывод\n",
    "\n",
    "В ходе предобработки данные проверены, даты приведены к нужному типу и переименован столбец идентификатора пользователя в таблице с источниками установки приложения.\n",
    "\n",
    "В ходе исследовательского анализа получены следующие данные:\n",
    "\n",
    "1. Количество пользователей в логе - 4293\n",
    "2. Мы располашаем данными за 28 дней, с 7-го октября по 3 ноября 2019 года\n",
    "3. Данные о событиях полные за весь рассматриваемый промежуток времени\n",
    "4. Лог разбит на сессии\n",
    "5. Выделены группы пользователей в зависимости от количества сессий:\n",
    "    - 1 сессия - 47.7%\n",
    "    - 2-5 сессий - 43.4%\n",
    "    - 6-10 сессий - 8%\n",
    "    - 11-20 сессий - 0.7%\n",
    "    - более 20 сессий - 0.1%\n",
    "6. Выделены группы пользователей в зависимости от среднего времени сессий:\n",
    "    - 0 минут - 2%\n",
    "    - 1 - 5 минут - 28%\n",
    "    - 6 - 20 минут - 46.4%\n",
    "    - 21 - 40 минут - 17%\n",
    "    - более 40 минут - 6.5%\n",
    "7. Выделены группы пользователей в зависимости от количества совершаемых действий:\n",
    "    - одно действие - 1.5 %\n",
    "    - от 2 до 10 действий - 55.1%\n",
    "    - от 11 до 30 действий - 31.2%\n",
    "    - от 31 до 60 действий - 7.4%\n",
    "    - более 60 действий - 4.8%\n",
    "8. Выделены группы пользователей на основе выполнения целевого действия - просмотра контакта:\n",
    "    - не доходили до просмотра контактов - 77.1%\n",
    "    - просматривали контакты - 22.3%\n",
    "    - подозрительная активность, просмотр более 25 контактов 0.5%\n",
    "9. Построена общая таблица с группами пользователей.\n",
    "10. Выдвинута гипотеза, что пользователи, которые пользовались картой размещенных объявлений демонстрируют большую конверсию в просмотры контактов, чем пользователи, которые не пользовались картой, но при этом открывали карточки с объявлениями.\n",
    "\n",
    "\n",
    "\n",
    "В ходе кластеризации пользователи поделены на три кластера, на основании выполняемых ими действий в приложении и ключевым метрикам. Выделены основные черты различия кластеров между собой.\n",
    "\n",
    "В кластер под номером 1 попало большинство пользователей, по всей видимости это среднестатистические пользователи приложения, не проявляющие особой активности, редко возвращающиеся в него и проводяшие в нем немного времени.\n",
    "\n",
    "В кластер под номером 0 попадает целевая аудитория приложени. Это любители \"ненужных вещей\", проводящие в приложении много времени, часто возвращающиеся в него и совершающие в нем много действий.\n",
    "\n",
    "В кластер под номером 2 попали наиболее активные пользователи. У них гораздо большее количество сессий и действий в приложении, среднее значение этих показателей превышает значения пользователей нулевого кластера в шесть раз.При этом среднее время сессии немного ниже, чем у пользователей нулевого кластера.\n",
    "\n",
    "Если посмотреть на распределение действий по кластерам, то вполне ожидаемо видно, что пользователи первого кластера совершали гораздо меньше каждое из действий, чем пользователи двух других кластеров.\n",
    "\n",
    "Смотрится подозрительно, что пользователи второго кластера открывали больше всех объявлений, смотрели карту, в разы больше других смотрели контакты, но при этом не открывали фотки и не звонили по объявлениям. И если звонки можно объяснить тем, что 15 пользователей могли и не звонить, а просто серфили по сайту и искали что-то интересное для себя, то почему они при этом не открывали фотки объяснить уже трудно. Я могу предположить, что это могло быть связано с техническими проблемами на их устройствах и фотки просто не открывались, но ведь эти пользователи часто возвращались в приложение, продолжали совершать наибольшее число действий. На пользователей этого кластера следует обратить внимание, возможно в нем присутствуют мошенники, собирающие телефонную базу.\n",
    "\n",
    "Пользователи нулевого кластера сбалансированно распределены по всем показателям\n",
    "\n",
    "Пользователи третьего класса активно смотрели фотографии и, практические единственные, совершали звонки по объявлениям. При этом они практически не открывали карточки с объявлениями, не пользовались картой и не видели рекомендаций. Скорее всего эти пользователи попадали в объявления, например, напрямую по ссылке из поисковика.\n",
    "\n",
    "В ходе проверки гипотез пришли к выводу, что нет основания считать различной конверсию в просмотры контактов между пользователями, установившими приложения из гугла или яндекса.\n",
    "\n",
    "Но есть основания предполагать, что пользователи неиспользовавшие карту демонстрируют большую конверсию в просмотры контактов, чем пользователи, использующие карту"
   ]
  },
  {
   "cell_type": "markdown",
   "metadata": {},
   "source": [
    "# Презентация\n",
    "\n",
    "https://cloud.mail.ru/public/2WkY/3jF8M3AMu"
   ]
  },
  {
   "cell_type": "code",
   "execution_count": null,
   "metadata": {},
   "outputs": [],
   "source": []
  }
 ],
 "metadata": {
  "kernelspec": {
   "display_name": "Python 3",
   "language": "python",
   "name": "python3"
  },
  "language_info": {
   "codemirror_mode": {
    "name": "ipython",
    "version": 3
   },
   "file_extension": ".py",
   "mimetype": "text/x-python",
   "name": "python",
   "nbconvert_exporter": "python",
   "pygments_lexer": "ipython3",
   "version": "3.7.6"
  }
 },
 "nbformat": 4,
 "nbformat_minor": 2
}
